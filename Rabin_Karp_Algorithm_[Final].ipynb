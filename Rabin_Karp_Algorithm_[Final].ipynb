{
  "nbformat": 4,
  "nbformat_minor": 0,
  "metadata": {
    "colab": {
      "provenance": [],
      "gpuType": "T4",
      "authorship_tag": "ABX9TyM3myDbrUUFcaFb1o/zjifR",
      "include_colab_link": true
    },
    "kernelspec": {
      "name": "python3",
      "display_name": "Python 3"
    },
    "language_info": {
      "name": "python"
    },
    "accelerator": "GPU"
  },
  "cells": [
    {
      "cell_type": "markdown",
      "metadata": {
        "id": "view-in-github",
        "colab_type": "text"
      },
      "source": [
        "<a href=\"https://colab.research.google.com/github/jmsarmiento11/csc612m-rabin-karp-CUDA/blob/main/Rabin_Karp_Algorithm_%5BFinal%5D.ipynb\" target=\"_parent\"><img src=\"https://colab.research.google.com/assets/colab-badge.svg\" alt=\"Open In Colab\"/></a>"
      ]
    },
    {
      "cell_type": "markdown",
      "source": [
        "Rabin-Karp C++ Program"
      ],
      "metadata": {
        "id": "FHSBmL3RViMZ"
      }
    },
    {
      "cell_type": "code",
      "execution_count": null,
      "metadata": {
        "colab": {
          "base_uri": "https://localhost:8080/"
        },
        "id": "ZvOekAMiTmks",
        "outputId": "1eb1ad18-c61c-429f-df4e-0001bcecf64c"
      },
      "outputs": [
        {
          "output_type": "stream",
          "name": "stdout",
          "text": [
            "Overwriting c_rabinKarp.c\n"
          ]
        }
      ],
      "source": [
        "%%writefile c_rabinKarp.c\n",
        "#include <stdio.h>\n",
        "#include <stdlib.h>\n",
        "#include <string.h>\n",
        "#include <stdbool.h>\n",
        "#include <limits.h>\n",
        "#include <time.h>\n",
        "\n",
        "const int BASE = 256;\n",
        "\n",
        "// Custom power function to calculate BASE^(m-1) for integers.\n",
        "unsigned long long int customPow(int base, int exponent) {\n",
        "    unsigned long long int result = 1;\n",
        "    while (exponent > 0) {\n",
        "        if (exponent & 1) {\n",
        "            result *= base;\n",
        "        }\n",
        "        base *= base;\n",
        "        exponent >>= 1;\n",
        "    }\n",
        "    return result;\n",
        "}\n",
        "\n",
        "// Function to calculate the hash value for a given substring using prefix sum.\n",
        "unsigned long long int calculateHash(const char* str, int start, int end) {\n",
        "    unsigned long long int hashValue = 0;\n",
        "    for (int i = start; i <= end; ++i) {\n",
        "        hashValue = (hashValue * BASE + str[i]) % INT_MAX;\n",
        "    }\n",
        "    return hashValue;\n",
        "}\n",
        "\n",
        "// Function to find the occurrences of a pattern in the text using Rabin-Karp algorithm.\n",
        "void rabinKarpSearch(const char* text, const char* patterns[], int numPatterns) {\n",
        "    int n = strlen(text);\n",
        "\n",
        "    // Start the timer.\n",
        "    clock_t start = clock();\n",
        "\n",
        "    // Loop through each pattern.\n",
        "    for (int k = 0; k < numPatterns; ++k) {\n",
        "        const char* pattern = patterns[k];\n",
        "        int m = strlen(pattern);\n",
        "        unsigned long long int patternHash = calculateHash(pattern, 0, m - 1);\n",
        "\n",
        "        bool patternFound = false;\n",
        "\n",
        "        // Loop through the text with a sliding window of length m.\n",
        "        for (int i = 0; i <= n - m; ++i) {\n",
        "            unsigned long long int currHash = calculateHash(text, i, i + m - 1);\n",
        "\n",
        "            // Check if the hash value matches for the current window.\n",
        "            if (patternHash == currHash) {\n",
        "                bool found = true;\n",
        "\n",
        "                // If the hash values match, compare the pattern with the text for an exact match.\n",
        "                for (int j = 0; j < m; ++j) {\n",
        "                    if (text[i + j] != pattern[j]) {\n",
        "                        found = false;\n",
        "                        break;\n",
        "                    }\n",
        "                }\n",
        "\n",
        "                // If the pattern is found, print its position and set the flag to true.\n",
        "                if (found) {\n",
        "                    printf(\"Pattern \\\"%s\\\" found at position: %d\\n\", pattern, i);\n",
        "                    patternFound = true;\n",
        "                }\n",
        "            }\n",
        "        }\n",
        "\n",
        "        // If the pattern is not found in the text, display a message.\n",
        "        if (!patternFound) {\n",
        "            printf(\"Pattern \\\"%s\\\" not found in the text.\\n\", pattern);\n",
        "        }\n",
        "    }\n",
        "\n",
        "    // End the timer and calculate elapsed time.\n",
        "    clock_t end = clock();\n",
        "    double elapsed_time = (double)(end - start)*1e6 / CLOCKS_PER_SEC;\n",
        "    printf(\"Searching process is done. Elapsed time: %.6f microseconds\\n\", elapsed_time);\n",
        "}\n",
        "\n",
        "int main() {\n",
        "    FILE* inputFile = fopen(\"text2.txt\", \"r\");\n",
        "    if (!inputFile) {\n",
        "        printf(\"Error opening the file.\\n\");\n",
        "        return 1;\n",
        "    }\n",
        "\n",
        "    char* text = NULL;\n",
        "    size_t len = 0;\n",
        "    ssize_t read;\n",
        "\n",
        "    // Read the entire text from the file.\n",
        "    read = getline(&text, &len, inputFile);\n",
        "    fclose(inputFile);\n",
        "\n",
        "    const char* patterns[] = {\"flncufrnyd\", \"yosqvoxrqr\", \"mldgpkfifa\", \"wrxxozxwur\", \"zzxzxrmkrz\", \"okwtlzpkbz\", \"bmjnqqnhab\", \"qigjguyjhq\", \"aeyvmbfdvd\", \"soixvqasok\" };\n",
        "    int numPatterns = sizeof(patterns) / sizeof(patterns[0]);\n",
        "\n",
        "    // Call the Rabin-Karp search function to find all patterns in the text.\n",
        "    rabinKarpSearch(text, patterns, numPatterns);\n",
        "\n",
        "    free(text);\n",
        "    return 0;\n",
        "}\n"
      ]
    },
    {
      "cell_type": "code",
      "source": [
        "%%shell\n",
        "g++ c_rabinKarp.c -o c_rabinKarp"
      ],
      "metadata": {
        "colab": {
          "base_uri": "https://localhost:8080/"
        },
        "id": "MfndA9vUWHzN",
        "outputId": "acdd3f4a-9319-44b3-a0a6-e4a186ab5295"
      },
      "execution_count": null,
      "outputs": [
        {
          "output_type": "execute_result",
          "data": {
            "text/plain": []
          },
          "metadata": {},
          "execution_count": 3
        }
      ]
    },
    {
      "cell_type": "code",
      "source": [
        "%%shell\n",
        "./c_rabinKarp"
      ],
      "metadata": {
        "colab": {
          "base_uri": "https://localhost:8080/"
        },
        "id": "Xkz4bat2Wp3z",
        "outputId": "98e653a9-1312-4c1f-eb2c-526981758531"
      },
      "execution_count": null,
      "outputs": [
        {
          "output_type": "stream",
          "name": "stdout",
          "text": [
            "Pattern \"flncufrnyd\" found at position: 1499\n",
            "Pattern \"yosqvoxrqr\" found at position: 3932\n",
            "Pattern \"mldgpkfifa\" found at position: 4411\n",
            "Pattern \"wrxxozxwur\" found at position: 5338\n",
            "Pattern \"zzxzxrmkrz\" found at position: 6985\n",
            "Pattern \"okwtlzpkbz\" found at position: 8425\n",
            "Pattern \"bmjnqqnhab\" found at position: 8545\n",
            "Pattern \"qigjguyjhq\" found at position: 8885\n",
            "Pattern \"aeyvmbfdvd\" found at position: 11470\n",
            "Pattern \"soixvqasok\" found at position: 12900\n",
            "Searching process is done. Elapsed time: 10420.000000 microseconds\n"
          ]
        },
        {
          "output_type": "execute_result",
          "data": {
            "text/plain": []
          },
          "metadata": {},
          "execution_count": 4
        }
      ]
    },
    {
      "cell_type": "markdown",
      "source": [
        "Rabin-Karp CUDA V1.0"
      ],
      "metadata": {
        "id": "gPnvyYINaSoP"
      }
    },
    {
      "cell_type": "code",
      "source": [
        "%%writefile rabinKarp.cu\n",
        "#include <stdio.h>\n",
        "#include <stdlib.h>\n",
        "#include <string.h>\n",
        "\n",
        "const int BASE = 256;\n",
        "\n",
        "__device__\n",
        "unsigned long long int customPow(int base, int exponent) {\n",
        "    unsigned long long int result = 1;\n",
        "    while (exponent > 0) {\n",
        "        if (exponent & 1) {\n",
        "            result *= base;\n",
        "        }\n",
        "        base *= base;\n",
        "        exponent >>= 1;\n",
        "    }\n",
        "    return result;\n",
        "}\n",
        "\n",
        "__device__\n",
        "unsigned long long int calculateHash(const char* str, int start, int end) {\n",
        "    unsigned long long int hashValue = 0;\n",
        "    for (int i = start; i <= end; ++i) {\n",
        "        hashValue = (hashValue * BASE + str[i]) % INT_MAX;\n",
        "    }\n",
        "    return hashValue;\n",
        "}\n",
        "\n",
        "__global__\n",
        "void rabinKarpSearch(const char* text, const char* pattern, int patternIndex, int textLength, int patternLength, bool* patternFound) {\n",
        "    int tid = blockIdx.x * blockDim.x + threadIdx.x;\n",
        "    int numThreads = gridDim.x * blockDim.x;\n",
        "    int n = textLength;\n",
        "    int m = patternLength;\n",
        "\n",
        "    // Calculate the pattern hash value outside the loop since it is constant.\n",
        "    unsigned long long int patternHash = calculateHash(pattern, 0, m - 1);\n",
        "\n",
        "    // Loop over the text with grid-stride.\n",
        "    for (int i = tid; i <= n - m; i += numThreads) {\n",
        "        unsigned long long int currHash = calculateHash(text, i, i + m - 1);\n",
        "\n",
        "        if (patternHash == currHash) {\n",
        "            bool found = true;\n",
        "            for (int j = 0; j < m; ++j) {\n",
        "                if (text[i + j] != pattern[j]) {\n",
        "                    found = false;\n",
        "                    break;\n",
        "                }\n",
        "            }\n",
        "\n",
        "            if (found) {\n",
        "                printf(\"Pattern %d found at position: %d\\n\", patternIndex, i);\n",
        "                patternFound[patternIndex] = true;\n",
        "                return; // Return immediately when pattern is found.\n",
        "            }\n",
        "        }\n",
        "    }\n",
        "}\n",
        "\n",
        "int main() {\n",
        "    FILE* inputFile = fopen(\"text2.txt\", \"r\");\n",
        "    if (!inputFile) {\n",
        "        printf(\"Error opening the file.\\n\");\n",
        "        return 1;\n",
        "    }\n",
        "\n",
        "    char* text = NULL;\n",
        "    size_t len = 0;\n",
        "    ssize_t read;\n",
        "\n",
        "    // Read the entire text from the file.\n",
        "    read = getline(&text, &len, inputFile);\n",
        "    fclose(inputFile);\n",
        "\n",
        "    const char* patterns[] = {\"flncufrnyd\", \"yosqvoxrqr\", \"mldgpkfifa\", \"wrxxozxwur\", \"zzxzxrmkrz\", \"okwtlzpkbz\", \"bmjnqqnhab\", \"qigjguyjhq\", \"aeyvmbfdvd\", \"soixvqasok\" };\n",
        "    int numPatterns = sizeof(patterns) / sizeof(patterns[0]);\n",
        "\n",
        "    char* cudaText;\n",
        "    int textLength = strlen(text);\n",
        "\n",
        "    // Allocate memory and copy text to the GPU.\n",
        "    cudaMalloc((void**)&cudaText, textLength);\n",
        "    cudaMemcpy(cudaText, text, textLength, cudaMemcpyHostToDevice);\n",
        "\n",
        "    bool patternFound[numPatterns];\n",
        "    for (int i = 0; i < numPatterns; i++) {\n",
        "        patternFound[i] = false;\n",
        "    }\n",
        "\n",
        "    bool* cudaPatternFound;\n",
        "    cudaMalloc((void**)&cudaPatternFound, numPatterns * sizeof(bool));\n",
        "    cudaMemcpy(cudaPatternFound, patternFound, numPatterns * sizeof(bool), cudaMemcpyHostToDevice);\n",
        "\n",
        "    for (int i = 0; i < numPatterns; i++) {\n",
        "        int patternLength = strlen(patterns[i]);\n",
        "        char* cudaPattern;\n",
        "        cudaMalloc((void**)&cudaPattern, patternLength);\n",
        "        cudaMemcpy(cudaPattern, patterns[i], patternLength, cudaMemcpyHostToDevice);\n",
        "\n",
        "        // Launch the kernel with appropriate thread configuration.\n",
        "        int blockSize = 256;\n",
        "        int numBlocks = (textLength + blockSize - 1) / blockSize;\n",
        "        rabinKarpSearch<<<numBlocks, blockSize>>>(cudaText, cudaPattern, i, textLength, patternLength, cudaPatternFound);\n",
        "\n",
        "        cudaFree(cudaPattern);\n",
        "    }\n",
        "\n",
        "    cudaMemcpy(patternFound, cudaPatternFound, numPatterns * sizeof(bool), cudaMemcpyDeviceToHost);\n",
        "    cudaFree(cudaPatternFound);\n",
        "\n",
        "    // Print message for patterns that are not found.\n",
        "    for (int i = 0; i < numPatterns; i++) {\n",
        "        if (!patternFound[i]) {\n",
        "            printf(\"Pattern %d not found.\\n\", i);\n",
        "        }\n",
        "    }\n",
        "\n",
        "    // Free GPU memory.\n",
        "    cudaFree(cudaText);\n",
        "\n",
        "    free(text);\n",
        "\n",
        "    return 0;\n",
        "}\n"
      ],
      "metadata": {
        "colab": {
          "base_uri": "https://localhost:8080/"
        },
        "id": "OKwAOaAlaRUj",
        "outputId": "0c33e69d-2aa9-4452-92e2-580d7a051ec9"
      },
      "execution_count": null,
      "outputs": [
        {
          "output_type": "stream",
          "name": "stdout",
          "text": [
            "Writing rabinKarp.cu\n"
          ]
        }
      ]
    },
    {
      "cell_type": "code",
      "source": [
        "%%shell\n",
        "nvcc rabinKarp.cu -o rabinKarp"
      ],
      "metadata": {
        "colab": {
          "base_uri": "https://localhost:8080/"
        },
        "id": "iOnh58fMa7Ap",
        "outputId": "bb8d868d-dac9-4a84-bfcd-5a142dfcdf86"
      },
      "execution_count": null,
      "outputs": [
        {
          "output_type": "stream",
          "name": "stdout",
          "text": [
            "\u001b[01m\u001b[0m\u001b[01mrabinKarp.cu(70)\u001b[0m: \u001b[01;35mwarning\u001b[0m #550-D: variable \u001b[01m\"read\"\u001b[0m was set but never used\n",
            "\n"
          ]
        },
        {
          "output_type": "execute_result",
          "data": {
            "text/plain": []
          },
          "metadata": {},
          "execution_count": 6
        }
      ]
    },
    {
      "cell_type": "code",
      "source": [
        "%%shell\n",
        "nvprof ./rabinKarp"
      ],
      "metadata": {
        "colab": {
          "base_uri": "https://localhost:8080/"
        },
        "id": "a0dVJbh8blJ8",
        "outputId": "9a161cab-b9e8-4746-feb4-9c38fb01184c"
      },
      "execution_count": null,
      "outputs": [
        {
          "output_type": "stream",
          "name": "stdout",
          "text": [
            "==1653== NVPROF is profiling process 1653, command: ./rabinKarp\n",
            "Pattern 0 found at position: 1499\n",
            "Pattern 1 found at position: 3932\n",
            "Pattern 2 found at position: 4411\n",
            "Pattern 3 found at position: 5338\n",
            "Pattern 4 found at position: 6985\n",
            "Pattern 5 found at position: 8425\n",
            "Pattern 6 found at position: 8545\n",
            "Pattern 7 found at position: 8885\n",
            "Pattern 8 found at position: 11470\n",
            "Pattern 9 found at position: 12900\n",
            "==1653== Profiling application: ./rabinKarp\n",
            "==1653== Profiling result:\n",
            "            Type  Time(%)      Time     Calls       Avg       Min       Max  Name\n",
            " GPU activities:   97.81%  932.86us        10  93.285us  88.863us  101.95us  rabinKarpSearch(char const *, char const *, int, int, int, bool*)\n",
            "                    1.98%  18.847us        12  1.5700us  1.3440us  3.5200us  [CUDA memcpy HtoD]\n",
            "                    0.22%  2.0800us         1  2.0800us  2.0800us  2.0800us  [CUDA memcpy DtoH]\n",
            "      API calls:   99.42%  513.91ms        12  42.826ms  5.5370us  513.84ms  cudaMalloc\n",
            "                    0.24%  1.2402ms        12  103.35us  5.8920us  137.26us  cudaFree\n",
            "                    0.23%  1.1889ms         1  1.1889ms  1.1889ms  1.1889ms  cuDeviceGetPCIBusId\n",
            "                    0.04%  192.12us       101  1.9020us     276ns  73.361us  cuDeviceGetAttribute\n",
            "                    0.03%  168.58us        13  12.967us  6.9560us  41.515us  cudaMemcpy\n",
            "                    0.03%  163.61us        10  16.361us  9.3170us  70.357us  cudaLaunchKernel\n",
            "                    0.01%  44.577us         1  44.577us  44.577us  44.577us  cuDeviceGetName\n",
            "                    0.00%  2.9590us         3     986ns     389ns  2.1310us  cuDeviceGetCount\n",
            "                    0.00%  1.1810us         2     590ns     368ns     813ns  cuDeviceGet\n",
            "                    0.00%     588ns         1     588ns     588ns     588ns  cuDeviceTotalMem\n",
            "                    0.00%     525ns         1     525ns     525ns     525ns  cuModuleGetLoadingMode\n",
            "                    0.00%     394ns         1     394ns     394ns     394ns  cuDeviceGetUuid\n"
          ]
        },
        {
          "output_type": "execute_result",
          "data": {
            "text/plain": []
          },
          "metadata": {},
          "execution_count": 7
        }
      ]
    },
    {
      "cell_type": "markdown",
      "source": [
        "Rabin-Karp CUDA V2.0 (With Thrust Library)"
      ],
      "metadata": {
        "id": "kYsmGG350y2w"
      }
    },
    {
      "cell_type": "code",
      "source": [
        "%%writefile rabinKarp2.cu\n",
        "#include <stdio.h>\n",
        "#include <thrust/device_vector.h>\n",
        "#include <thrust/host_vector.h>\n",
        "\n",
        "const int BASE = 256;\n",
        "\n",
        "__device__\n",
        "unsigned long long int customPow(int base, int exponent) {\n",
        "    unsigned long long int result = 1;\n",
        "    while (exponent > 0) {\n",
        "        if (exponent & 1) {\n",
        "            result *= base;\n",
        "        }\n",
        "        base *= base;\n",
        "        exponent >>= 1;\n",
        "    }\n",
        "    return result;\n",
        "}\n",
        "\n",
        "__device__\n",
        "unsigned long long int calculateHash(const char* str, int start, int end) {\n",
        "    unsigned long long int hashValue = 0;\n",
        "    for (int i = start; i <= end; ++i) {\n",
        "        hashValue = (hashValue * BASE + str[i]) % INT_MAX;\n",
        "    }\n",
        "    return hashValue;\n",
        "}\n",
        "\n",
        "__global__\n",
        "void rabinKarpSearch(const char* text, const char* pattern, int patternIndex, int textLength, int patternLength, bool* patternFound) {\n",
        "    int tid = blockIdx.x * blockDim.x + threadIdx.x;\n",
        "    int numThreads = gridDim.x * blockDim.x;\n",
        "    int n = textLength;\n",
        "    int m = patternLength;\n",
        "\n",
        "    // Calculate the pattern hash value outside the loop since it is constant.\n",
        "    unsigned long long int patternHash = calculateHash(pattern, 0, m - 1);\n",
        "\n",
        "    // Loop over the text with grid-stride.\n",
        "    for (int i = tid; i <= n - m; i += numThreads) {\n",
        "        unsigned long long int currHash = calculateHash(text, i, i + m - 1);\n",
        "\n",
        "        if (patternHash == currHash) {\n",
        "            bool found = true;\n",
        "            for (int j = 0; j < m; ++j) {\n",
        "                if (text[i + j] != pattern[j]) {\n",
        "                    found = false;\n",
        "                    break;\n",
        "                }\n",
        "            }\n",
        "\n",
        "            if (found) {\n",
        "                printf(\"Pattern %d found at position: %d\\n\", patternIndex, i);\n",
        "                patternFound[patternIndex] = true;\n",
        "                return; // Return immediately when pattern is found.\n",
        "            }\n",
        "        }\n",
        "    }\n",
        "}\n",
        "\n",
        "int main() {\n",
        "    FILE* inputFile = fopen(\"text2.txt\", \"r\");\n",
        "    if (!inputFile) {\n",
        "        printf(\"Error opening the file.\\n\");\n",
        "        return 1;\n",
        "    }\n",
        "\n",
        "    char* text = NULL;\n",
        "    size_t len = 0;\n",
        "    ssize_t read;\n",
        "\n",
        "    // Read the entire text from the file.\n",
        "    read = getline(&text, &len, inputFile);\n",
        "    fclose(inputFile);\n",
        "\n",
        "    const char* patterns[] = {\"flncufrnyd\", \"yosqvoxrqr\", \"mldgpkfifa\", \"wrxxozxwur\", \"zzxzxrmkrz\", \"okwtlzpkbz\", \"bmjnqqnhab\", \"qigjguyjhq\", \"aeyvmbfdvd\", \"soixvqasok\" };\n",
        "    int numPatterns = sizeof(patterns) / sizeof(patterns[0]);\n",
        "\n",
        "    int textLength = strlen(text);\n",
        "\n",
        "    // Allocate memory for text on the GPU.\n",
        "    thrust::device_vector<char> cudaText(text, text + textLength);\n",
        "\n",
        "    bool patternFound[numPatterns];\n",
        "    for (int i = 0; i < numPatterns; i++) {\n",
        "        patternFound[i] = false;\n",
        "    }\n",
        "\n",
        "    bool* cudaPatternFound;\n",
        "    cudaMalloc((void**)&cudaPatternFound, numPatterns * sizeof(bool));\n",
        "    cudaMemcpy(cudaPatternFound, patternFound, numPatterns * sizeof(bool), cudaMemcpyHostToDevice);\n",
        "\n",
        "    for (int i = 0; i < numPatterns; i++) {\n",
        "        int patternLength = strlen(patterns[i]);\n",
        "        char* cudaPattern;\n",
        "        cudaMalloc((void**)&cudaPattern, patternLength);\n",
        "        cudaMemcpy(cudaPattern, patterns[i], patternLength, cudaMemcpyHostToDevice);\n",
        "\n",
        "        // Launch the kernel with appropriate thread configuration.\n",
        "        int blockSize = 256;\n",
        "        int numBlocks = (textLength + blockSize - 1) / blockSize;\n",
        "        rabinKarpSearch<<<numBlocks, blockSize>>>(thrust::raw_pointer_cast(cudaText.data()), thrust::raw_pointer_cast(cudaPattern), i, textLength, patternLength, cudaPatternFound);\n",
        "\n",
        "        cudaFree(cudaPattern);\n",
        "    }\n",
        "\n",
        "    cudaMemcpy(patternFound, cudaPatternFound, numPatterns * sizeof(bool), cudaMemcpyDeviceToHost);\n",
        "    cudaFree(cudaPatternFound);\n",
        "\n",
        "    // Print message for patterns that are not found.\n",
        "    for (int i = 0; i < numPatterns; i++) {\n",
        "        if (!patternFound[i]) {\n",
        "            printf(\"Pattern %d not found.\\n\", i);\n",
        "        }\n",
        "    }\n",
        "\n",
        "    // Free GPU memory.\n",
        "    cudaText.clear();\n",
        "\n",
        "    free(text);\n",
        "\n",
        "    return 0;\n",
        "}\n"
      ],
      "metadata": {
        "colab": {
          "base_uri": "https://localhost:8080/"
        },
        "outputId": "ed209376-9cff-498e-db55-a95eee82b78e",
        "id": "HlF28CcD04uf"
      },
      "execution_count": null,
      "outputs": [
        {
          "output_type": "stream",
          "name": "stdout",
          "text": [
            "Writing rabinKarp2.cu\n"
          ]
        }
      ]
    },
    {
      "cell_type": "code",
      "source": [
        "%%shell\n",
        "nvcc rabinKarp2.cu -o rabinKarp2"
      ],
      "metadata": {
        "id": "IGQmHOA12x2y",
        "outputId": "11fa5099-791a-416c-8832-98a3ee79644e",
        "colab": {
          "base_uri": "https://localhost:8080/"
        }
      },
      "execution_count": null,
      "outputs": [
        {
          "output_type": "stream",
          "name": "stdout",
          "text": [
            "\u001b[01m\u001b[0m\u001b[01mrabinKarp2.cu(70)\u001b[0m: \u001b[01;35mwarning\u001b[0m #550-D: variable \u001b[01m\"read\"\u001b[0m was set but never used\n",
            "\n"
          ]
        },
        {
          "output_type": "execute_result",
          "data": {
            "text/plain": []
          },
          "metadata": {},
          "execution_count": 9
        }
      ]
    },
    {
      "cell_type": "code",
      "source": [
        "%%shell\n",
        "nvprof ./rabinKarp2"
      ],
      "metadata": {
        "colab": {
          "base_uri": "https://localhost:8080/"
        },
        "id": "ICE3zYxwC8cI",
        "outputId": "cd49ac6b-7d82-4a44-ef01-236a1064aeeb"
      },
      "execution_count": null,
      "outputs": [
        {
          "output_type": "stream",
          "name": "stdout",
          "text": [
            "==4385== NVPROF is profiling process 4385, command: ./rabinKarp2\n",
            "Pattern 0 found at position: 1499\n",
            "Pattern 1 found at position: 3932\n",
            "Pattern 2 found at position: 4411\n",
            "Pattern 3 found at position: 5338\n",
            "Pattern 4 found at position: 6985\n",
            "Pattern 5 found at position: 8425\n",
            "Pattern 6 found at position: 8545\n",
            "Pattern 7 found at position: 8885\n",
            "Pattern 8 found at position: 11470\n",
            "Pattern 9 found at position: 12900\n",
            "==4385== Profiling application: ./rabinKarp2\n",
            "==4385== Profiling result:\n",
            "            Type  Time(%)      Time     Calls       Avg       Min       Max  Name\n",
            " GPU activities:   97.80%  939.61us        10  93.960us  89.215us  102.50us  rabinKarpSearch(char const *, char const *, int, int, int, bool*)\n",
            "                    1.99%  19.104us        12  1.5920us  1.3440us  4.0320us  [CUDA memcpy HtoD]\n",
            "                    0.22%  2.0800us         1  2.0800us  2.0800us  2.0800us  [CUDA memcpy DtoH]\n",
            "      API calls:   99.45%  319.05ms        12  26.587ms  4.7170us  318.98ms  cudaMalloc\n",
            "                    0.39%  1.2580ms        12  104.83us  6.1030us  160.63us  cudaFree\n",
            "                    0.05%  158.98us        10  15.898us  9.6600us  59.841us  cudaLaunchKernel\n",
            "                    0.04%  132.87us       101  1.3150us     152ns  55.772us  cuDeviceGetAttribute\n",
            "                    0.04%  126.02us        12  10.501us  5.4490us  29.589us  cudaMemcpy\n",
            "                    0.01%  34.421us         1  34.421us  34.421us  34.421us  cudaMemcpyAsync\n",
            "                    0.01%  26.611us         1  26.611us  26.611us  26.611us  cuDeviceGetName\n",
            "                    0.00%  13.594us         1  13.594us  13.594us  13.594us  cudaStreamSynchronize\n",
            "                    0.00%  7.6010us         1  7.6010us  7.6010us  7.6010us  cuDeviceGetPCIBusId\n",
            "                    0.00%  2.2450us         3     748ns     250ns  1.5780us  cuDeviceGetCount\n",
            "                    0.00%  1.1840us         2     592ns     320ns     864ns  cuDeviceGet\n",
            "                    0.00%  1.0170us         1  1.0170us  1.0170us  1.0170us  cudaGetLastError\n",
            "                    0.00%     521ns         1     521ns     521ns     521ns  cuModuleGetLoadingMode\n",
            "                    0.00%     503ns         1     503ns     503ns     503ns  cuDeviceTotalMem\n",
            "                    0.00%     263ns         1     263ns     263ns     263ns  cuDeviceGetUuid\n"
          ]
        },
        {
          "output_type": "execute_result",
          "data": {
            "text/plain": []
          },
          "metadata": {},
          "execution_count": 10
        }
      ]
    }
  ]
}