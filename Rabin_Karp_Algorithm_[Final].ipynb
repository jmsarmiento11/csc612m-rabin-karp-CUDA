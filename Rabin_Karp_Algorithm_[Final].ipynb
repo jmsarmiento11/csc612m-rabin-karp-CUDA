{
  "nbformat": 4,
  "nbformat_minor": 0,
  "metadata": {
    "colab": {
      "provenance": [],
      "gpuType": "T4",
      "authorship_tag": "ABX9TyN4T83nkc582kEHLUHZa9ZO",
      "include_colab_link": true
    },
    "kernelspec": {
      "name": "python3",
      "display_name": "Python 3"
    },
    "language_info": {
      "name": "python"
    },
    "accelerator": "GPU"
  },
  "cells": [
    {
      "cell_type": "markdown",
      "metadata": {
        "id": "view-in-github",
        "colab_type": "text"
      },
      "source": [
        "<a href=\"https://colab.research.google.com/github/jmsarmiento11/csc612m-rabin-karp-CUDA/blob/main/Rabin_Karp_Algorithm_%5BFinal%5D.ipynb\" target=\"_parent\"><img src=\"https://colab.research.google.com/assets/colab-badge.svg\" alt=\"Open In Colab\"/></a>"
      ]
    },
    {
      "cell_type": "markdown",
      "source": [
        "Rabin-Karp C++ Program"
      ],
      "metadata": {
        "id": "FHSBmL3RViMZ"
      }
    },
    {
      "cell_type": "code",
      "execution_count": null,
      "metadata": {
        "colab": {
          "base_uri": "https://localhost:8080/"
        },
        "id": "ZvOekAMiTmks",
        "outputId": "764f0316-01f9-48ec-ef4f-05ae4af065f3"
      },
      "outputs": [
        {
          "output_type": "stream",
          "name": "stdout",
          "text": [
            "Overwriting c_rabinKarp.c\n"
          ]
        }
      ],
      "source": [
        "%%writefile c_rabinKarp.c\n",
        "#include <stdio.h>\n",
        "#include <stdlib.h>\n",
        "#include <string.h>\n",
        "#include <stdbool.h>\n",
        "#include <limits.h>\n",
        "#include <time.h>\n",
        "\n",
        "const int BASE = 256;\n",
        "\n",
        "// Custom power function to calculate BASE^(m-1) for integers.\n",
        "unsigned long long int customPow(int base, int exponent) {\n",
        "    unsigned long long int result = 1;\n",
        "    while (exponent > 0) {\n",
        "        if (exponent & 1) {\n",
        "            result *= base;\n",
        "        }\n",
        "        base *= base;\n",
        "        exponent >>= 1;\n",
        "    }\n",
        "    return result;\n",
        "}\n",
        "\n",
        "// Function to calculate the hash value for a given substring using prefix sum.\n",
        "unsigned long long int calculateHash(const char* str, int start, int end) {\n",
        "    unsigned long long int hashValue = 0;\n",
        "    for (int i = start; i <= end; ++i) {\n",
        "        hashValue = (hashValue * BASE + str[i]) % INT_MAX;\n",
        "    }\n",
        "    return hashValue;\n",
        "}\n",
        "\n",
        "// Function to find the occurrences of a pattern in the text using Rabin-Karp algorithm.\n",
        "void rabinKarpSearch(const char* text, const char* patterns[], int numPatterns) {\n",
        "    int n = strlen(text);\n",
        "\n",
        "    // Start the timer.\n",
        "    clock_t start = clock();\n",
        "\n",
        "    // Loop through each pattern.\n",
        "    for (int k = 0; k < numPatterns; ++k) {\n",
        "        const char* pattern = patterns[k];\n",
        "        int m = strlen(pattern);\n",
        "        unsigned long long int patternHash = calculateHash(pattern, 0, m - 1);\n",
        "\n",
        "        bool patternFound = false;\n",
        "\n",
        "        // Loop through the text with a sliding window of length m.\n",
        "        for (int i = 0; i <= n - m; ++i) {\n",
        "            unsigned long long int currHash = calculateHash(text, i, i + m - 1);\n",
        "\n",
        "            // Check if the hash value matches for the current window.\n",
        "            if (patternHash == currHash) {\n",
        "                bool found = true;\n",
        "\n",
        "                // If the hash values match, compare the pattern with the text for an exact match.\n",
        "                for (int j = 0; j < m; ++j) {\n",
        "                    if (text[i + j] != pattern[j]) {\n",
        "                        found = false;\n",
        "                        break;\n",
        "                    }\n",
        "                }\n",
        "\n",
        "                // If the pattern is found, print its position and set the flag to true.\n",
        "                if (found) {\n",
        "                    printf(\"Pattern \\\"%s\\\" found at position: %d\\n\", pattern, i);\n",
        "                    patternFound = true;\n",
        "                }\n",
        "            }\n",
        "        }\n",
        "\n",
        "        // If the pattern is not found in the text, display a message.\n",
        "        if (!patternFound) {\n",
        "            printf(\"Pattern \\\"%s\\\" not found in the text.\\n\", pattern);\n",
        "        }\n",
        "    }\n",
        "\n",
        "    // End the timer and calculate elapsed time.\n",
        "    clock_t end = clock();\n",
        "    double elapsed_time = (double)(end - start)*1e6 / CLOCKS_PER_SEC;\n",
        "    printf(\"Searching process is done. Elapsed time: %.6f microseconds\\n\", elapsed_time);\n",
        "}\n",
        "\n",
        "int main() {\n",
        "    FILE* inputFile = fopen(\"text.txt\", \"r\");\n",
        "    if (!inputFile) {\n",
        "        printf(\"Error opening the file.\\n\");\n",
        "        return 1;\n",
        "    }\n",
        "\n",
        "    char* text = NULL;\n",
        "    size_t len = 0;\n",
        "    ssize_t read;\n",
        "\n",
        "    // Read the entire text from the file.\n",
        "    read = getline(&text, &len, inputFile);\n",
        "    fclose(inputFile);\n",
        "\n",
        "    const char* patterns[] = {\"mark\", \"sarmiento\"};\n",
        "    int numPatterns = sizeof(patterns) / sizeof(patterns[0]);\n",
        "\n",
        "    // Call the Rabin-Karp search function to find all patterns in the text.\n",
        "    rabinKarpSearch(text, patterns, numPatterns);\n",
        "\n",
        "    free(text);\n",
        "    return 0;\n",
        "}\n"
      ]
    },
    {
      "cell_type": "code",
      "source": [
        "%%shell\n",
        "g++ c_rabinKarp.c -o c_rabinKarp"
      ],
      "metadata": {
        "colab": {
          "base_uri": "https://localhost:8080/"
        },
        "id": "MfndA9vUWHzN",
        "outputId": "27e60e0e-99eb-49be-f42b-29c2b7b56192"
      },
      "execution_count": null,
      "outputs": [
        {
          "output_type": "execute_result",
          "data": {
            "text/plain": []
          },
          "metadata": {},
          "execution_count": 8
        }
      ]
    },
    {
      "cell_type": "code",
      "source": [
        "%%shell\n",
        "./c_rabinKarp"
      ],
      "metadata": {
        "colab": {
          "base_uri": "https://localhost:8080/"
        },
        "id": "Xkz4bat2Wp3z",
        "outputId": "2262514a-efd0-4370-b3f9-ad02ec790fae"
      },
      "execution_count": null,
      "outputs": [
        {
          "output_type": "stream",
          "name": "stdout",
          "text": [
            "Pattern \"mark\" not found in the text.\n",
            "Pattern \"sarmiento\" not found in the text.\n",
            "Searching process is done. Elapsed time: 153.000000 microseconds\n"
          ]
        },
        {
          "output_type": "execute_result",
          "data": {
            "text/plain": []
          },
          "metadata": {},
          "execution_count": 9
        }
      ]
    },
    {
      "cell_type": "markdown",
      "source": [
        "Rabin-Karp CUDA V1.0"
      ],
      "metadata": {
        "id": "gPnvyYINaSoP"
      }
    },
    {
      "cell_type": "code",
      "source": [
        "%%writefile rabinKarp.cu\n",
        "#include <stdio.h>\n",
        "#include <stdlib.h>\n",
        "#include <string.h>\n",
        "\n",
        "const int BASE = 256;\n",
        "\n",
        "__device__ unsigned long long int customPow(int base, int exponent) {\n",
        "    unsigned long long int result = 1;\n",
        "    while (exponent > 0) {\n",
        "        if (exponent & 1) {\n",
        "            result *= base;\n",
        "        }\n",
        "        base *= base;\n",
        "        exponent >>= 1;\n",
        "    }\n",
        "    return result;\n",
        "}\n",
        "\n",
        "__device__ unsigned long long int calculateHash(const char* str, int start, int end) {\n",
        "    unsigned long long int hashValue = 0;\n",
        "    for (int i = start; i <= end; ++i) {\n",
        "        hashValue = (hashValue * BASE + str[i]) % INT_MAX;\n",
        "    }\n",
        "    return hashValue;\n",
        "}\n",
        "\n",
        "__global__ void rabinKarpSearch(const char* text, const char* pattern, int patternIndex, int textLength, int patternLength, bool* patternFound) {\n",
        "    int tid = blockIdx.x * blockDim.x + threadIdx.x;\n",
        "    int numThreads = gridDim.x * blockDim.x;\n",
        "    int n = textLength;\n",
        "    int m = patternLength;\n",
        "\n",
        "    // Calculate the pattern hash value outside the loop since it is constant.\n",
        "    unsigned long long int patternHash = calculateHash(pattern, 0, m - 1);\n",
        "\n",
        "    // Loop over the text with grid-stride.\n",
        "    for (int i = tid; i <= n - m; i += numThreads) {\n",
        "        unsigned long long int currHash = calculateHash(text, i, i + m - 1);\n",
        "\n",
        "        if (patternHash == currHash) {\n",
        "            bool found = true;\n",
        "            for (int j = 0; j < m; ++j) {\n",
        "                if (text[i + j] != pattern[j]) {\n",
        "                    found = false;\n",
        "                    break;\n",
        "                }\n",
        "            }\n",
        "\n",
        "            if (found) {\n",
        "                printf(\"Pattern %d found at position: %d\\n\", patternIndex, i);\n",
        "                patternFound[patternIndex] = true;\n",
        "                return; // Return immediately when pattern is found.\n",
        "            }\n",
        "        }\n",
        "    }\n",
        "}\n",
        "\n",
        "int main() {\n",
        "    FILE* inputFile = fopen(\"text.txt\", \"r\");\n",
        "    if (!inputFile) {\n",
        "        printf(\"Error opening the file.\\n\");\n",
        "        return 1;\n",
        "    }\n",
        "\n",
        "    char* text = NULL;\n",
        "    size_t len = 0;\n",
        "    ssize_t read;\n",
        "\n",
        "    // Read the entire text from the file.\n",
        "    read = getline(&text, &len, inputFile);\n",
        "    fclose(inputFile);\n",
        "\n",
        "    const char* patterns[] = {\"dog\", \"fox\", \"lazy\", \"jump\", \"over\", \"quick\", \"brown\", \"jumps\", \"the\", \"sleepy\"};\n",
        "    int numPatterns = sizeof(patterns) / sizeof(patterns[0]);\n",
        "\n",
        "    char* cudaText;\n",
        "    int textLength = strlen(text);\n",
        "\n",
        "    // Allocate memory and copy text to the GPU.\n",
        "    cudaMalloc((void**)&cudaText, textLength);\n",
        "    cudaMemcpy(cudaText, text, textLength, cudaMemcpyHostToDevice);\n",
        "\n",
        "    bool patternFound[numPatterns];\n",
        "    for (int i = 0; i < numPatterns; i++) {\n",
        "        patternFound[i] = false;\n",
        "    }\n",
        "\n",
        "    bool* cudaPatternFound;\n",
        "    cudaMalloc((void**)&cudaPatternFound, numPatterns * sizeof(bool));\n",
        "    cudaMemcpy(cudaPatternFound, patternFound, numPatterns * sizeof(bool), cudaMemcpyHostToDevice);\n",
        "\n",
        "    for (int i = 0; i < numPatterns; i++) {\n",
        "        int patternLength = strlen(patterns[i]);\n",
        "        char* cudaPattern;\n",
        "        cudaMalloc((void**)&cudaPattern, patternLength);\n",
        "        cudaMemcpy(cudaPattern, patterns[i], patternLength, cudaMemcpyHostToDevice);\n",
        "\n",
        "        // Launch the kernel with appropriate thread configuration.\n",
        "        int blockSize = 256;\n",
        "        int numBlocks = (textLength + blockSize - 1) / blockSize;\n",
        "        rabinKarpSearch<<<numBlocks, blockSize>>>(cudaText, cudaPattern, i, textLength, patternLength, cudaPatternFound);\n",
        "\n",
        "        cudaFree(cudaPattern);\n",
        "    }\n",
        "\n",
        "    cudaMemcpy(patternFound, cudaPatternFound, numPatterns * sizeof(bool), cudaMemcpyDeviceToHost);\n",
        "    cudaFree(cudaPatternFound);\n",
        "\n",
        "    // Print message for patterns that are not found.\n",
        "    for (int i = 0; i < numPatterns; i++) {\n",
        "        if (!patternFound[i]) {\n",
        "            printf(\"Pattern %d not found.\\n\", i);\n",
        "        }\n",
        "    }\n",
        "\n",
        "    // Free GPU memory.\n",
        "    cudaFree(cudaText);\n",
        "\n",
        "    free(text);\n",
        "\n",
        "    return 0;\n",
        "}\n"
      ],
      "metadata": {
        "colab": {
          "base_uri": "https://localhost:8080/"
        },
        "id": "OKwAOaAlaRUj",
        "outputId": "f11490ef-360a-4743-cec2-719ecfc383e9"
      },
      "execution_count": 1,
      "outputs": [
        {
          "output_type": "stream",
          "name": "stdout",
          "text": [
            "Writing rabinKarp.cu\n"
          ]
        }
      ]
    },
    {
      "cell_type": "code",
      "source": [
        "%%shell\n",
        "nvcc rabinKarp.cu -o rabinKarp"
      ],
      "metadata": {
        "colab": {
          "base_uri": "https://localhost:8080/"
        },
        "id": "iOnh58fMa7Ap",
        "outputId": "f4b46d97-0280-4321-fc49-ee2ea68508d4"
      },
      "execution_count": 2,
      "outputs": [
        {
          "output_type": "stream",
          "name": "stdout",
          "text": [
            "\u001b[01m\u001b[0m\u001b[01mrabinKarp.cu(67)\u001b[0m: \u001b[01;35mwarning\u001b[0m #550-D: variable \u001b[01m\"read\"\u001b[0m was set but never used\n",
            "\n"
          ]
        },
        {
          "output_type": "execute_result",
          "data": {
            "text/plain": []
          },
          "metadata": {},
          "execution_count": 2
        }
      ]
    },
    {
      "cell_type": "code",
      "source": [
        "%%shell\n",
        "nvprof ./rabinKarp"
      ],
      "metadata": {
        "colab": {
          "base_uri": "https://localhost:8080/"
        },
        "id": "a0dVJbh8blJ8",
        "outputId": "ce1bf7fb-a194-4348-a446-15aa864ac732"
      },
      "execution_count": 3,
      "outputs": [
        {
          "output_type": "stream",
          "name": "stdout",
          "text": [
            "==729== NVPROF is profiling process 729, command: ./rabinKarp\n",
            "Pattern 0 found at position: 520\n",
            "Pattern 0 found at position: 325\n",
            "Pattern 0 found at position: 784\n",
            "Pattern 0 found at position: 818\n",
            "Pattern 0 found at position: 178\n",
            "Pattern 0 found at position: 40\n",
            "Pattern 0 found at position: 49\n",
            "Pattern 0 found at position: 123\n",
            "Pattern 1 found at position: 708\n",
            "Pattern 1 found at position: 806\n",
            "Pattern 1 found at position: 16\n",
            "Pattern 1 found at position: 246\n",
            "Pattern 1 found at position: 88\n",
            "Pattern 1 found at position: 471\n",
            "Pattern 1 found at position: 219\n",
            "Pattern 1 found at position: 62\n",
            "Pattern 1 found at position: 144\n",
            "Pattern 1 found at position: 157\n",
            "Pattern 2 found at position: 35\n",
            "Pattern 3 found at position: 20\n",
            "Pattern 4 found at position: 26\n",
            "Pattern 5 found at position: 4\n",
            "Pattern 6 found at position: 10\n",
            "Pattern 7 found at position: 20\n",
            "Pattern 8 found at position: 616\n",
            "Pattern 8 found at position: 868\n",
            "Pattern 8 found at position: 649\n",
            "Pattern 8 found at position: 780\n",
            "Pattern 8 found at position: 802\n",
            "Pattern 8 found at position: 814\n",
            "Pattern 8 found at position: 704\n",
            "Pattern 8 found at position: 730\n",
            "Pattern 8 found at position: 58\n",
            "Pattern 8 found at position: 140\n",
            "Pattern 8 found at position: 153\n",
            "Pattern 8 found at position: 431\n",
            "Pattern 8 found at position: 446\n",
            "Pattern 8 found at position: 31\n",
            "Pattern 9 not found.\n",
            "==729== Profiling application: ./rabinKarp\n",
            "==729== Profiling result:\n",
            "            Type  Time(%)      Time     Calls       Avg       Min       Max  Name\n",
            " GPU activities:   97.73%  853.08us        10  85.308us  7.3280us  104.86us  rabinKarpSearch(char const *, char const *, int, int, int, bool*)\n",
            "                    2.02%  17.664us        12  1.4720us  1.3440us  2.1120us  [CUDA memcpy HtoD]\n",
            "                    0.24%  2.1120us         1  2.1120us  2.1120us  2.1120us  [CUDA memcpy DtoH]\n",
            "      API calls:   99.15%  301.41ms        12  25.117ms  3.9000us  301.35ms  cudaMalloc\n",
            "                    0.38%  1.1659ms        12  97.161us  4.0770us  147.08us  cudaFree\n",
            "                    0.33%  1.0148ms         1  1.0148ms  1.0148ms  1.0148ms  cuDeviceGetPCIBusId\n",
            "                    0.04%  135.72us        13  10.440us  4.3600us  25.954us  cudaMemcpy\n",
            "                    0.04%  132.92us        10  13.292us  8.5220us  48.032us  cudaLaunchKernel\n",
            "                    0.04%  117.51us       101  1.1630us     135ns  48.579us  cuDeviceGetAttribute\n",
            "                    0.01%  24.181us         1  24.181us  24.181us  24.181us  cuDeviceGetName\n",
            "                    0.00%  2.3420us         3     780ns     215ns  1.9000us  cuDeviceGetCount\n",
            "                    0.00%     894ns         2     447ns     186ns     708ns  cuDeviceGet\n",
            "                    0.00%     533ns         1     533ns     533ns     533ns  cuModuleGetLoadingMode\n",
            "                    0.00%     473ns         1     473ns     473ns     473ns  cuDeviceTotalMem\n",
            "                    0.00%     229ns         1     229ns     229ns     229ns  cuDeviceGetUuid\n"
          ]
        },
        {
          "output_type": "execute_result",
          "data": {
            "text/plain": []
          },
          "metadata": {},
          "execution_count": 3
        }
      ]
    },
    {
      "cell_type": "markdown",
      "source": [
        "Rabin-Karp CUDA V2.0 (With Thrust Library)"
      ],
      "metadata": {
        "id": "kYsmGG350y2w"
      }
    },
    {
      "cell_type": "code",
      "source": [
        "%%writefile rabinKarp.cu\n",
        "#include <thrust/device_vector.h>\n",
        "#include <thrust/iterator/counting_iterator.h>\n",
        "#include <thrust/iterator/transform_iterator.h>\n",
        "#include <thrust/functional.h>\n",
        "#include <stdio.h>\n",
        "#include <stdlib.h>\n",
        "#include <string.h>\n",
        "\n",
        "const int BASE = 256;\n",
        "\n",
        "struct RabinKarpHash {\n",
        "    unsigned long long int operator()(const char* str, int start, int end) {\n",
        "        unsigned long long int hashValue = 0;\n",
        "        for (int i = start; i <= end; ++i) {\n",
        "            hashValue = (hashValue * BASE + str[i]) % INT_MAX;\n",
        "        }\n",
        "        return hashValue;\n",
        "    }\n",
        "};\n",
        "\n",
        "int main() {\n",
        "    FILE* inputFile = fopen(\"text.txt\", \"r\");\n",
        "    if (!inputFile) {\n",
        "        printf(\"Error opening the file.\\n\");\n",
        "        return 1;\n",
        "    }\n",
        "\n",
        "    char* text = NULL;\n",
        "    size_t len = 0;\n",
        "    ssize_t read;\n",
        "\n",
        "    // Read the entire text from the file.\n",
        "    read = getline(&text, &len, inputFile);\n",
        "    fclose(inputFile);\n",
        "\n",
        "    const char* patterns[] = {\"dog\", \"fox\", \"lazy\", \"jump\", \"over\", \"quick\", \"brown\", \"jumps\", \"the\", \"sleepy\"};\n",
        "    int numPatterns = sizeof(patterns) / sizeof(patterns[0]);\n",
        "\n",
        "    // Create thrust vectors for the text and patterns.\n",
        "    thrust::device_vector<char> d_text(text, text + strlen(text));\n",
        "    thrust::device_vector<char> d_patterns(patterns, patterns + numPatterns);\n",
        "\n",
        "    // Create a transform iterator that calculates the Rabin-Karp hash of each pattern.\n",
        "    thrust::transform_iterator<RabinKarpHash, const char*, unsigned long long int> d_patternHashes(d_patterns.begin(), RabinKarpHash());\n",
        "\n",
        "    // Use Thrust to find all of the patterns in the text.\n",
        "    thrust::equal_to<unsigned long long int> equal_to;\n",
        "    auto found = thrust::search(d_patternHashes, d_patternHashes + numPatterns, d_text.begin(), d_text.end(), equal_to);\n",
        "\n",
        "    // Print the positions of the found patterns.\n",
        "    for (auto it = found.begin(); it != found.end(); ++it) {\n",
        "        printf(\"Pattern found at position: %d\\n\", *it);\n",
        "    }\n",
        "\n",
        "    return 0;\n",
        "}\n"
      ],
      "metadata": {
        "colab": {
          "base_uri": "https://localhost:8080/"
        },
        "outputId": "caf7b454-a38a-4bf0-c8ce-d20e27b85a54",
        "id": "HlF28CcD04uf"
      },
      "execution_count": 1,
      "outputs": [
        {
          "output_type": "stream",
          "name": "stdout",
          "text": [
            "Writing rabinKarp.cu\n"
          ]
        }
      ]
    },
    {
      "cell_type": "code",
      "source": [
        "%%shell\n",
        "nvcc rabinKarp.cu -o rabinKarp"
      ],
      "metadata": {
        "colab": {
          "base_uri": "https://localhost:8080/",
          "height": 1000
        },
        "id": "IGQmHOA12x2y",
        "outputId": "781f5567-1fe6-4ae9-f18d-a0b416467a90"
      },
      "execution_count": 2,
      "outputs": [
        {
          "output_type": "stream",
          "name": "stdout",
          "text": [
            "\u001b[01m\u001b[0m\u001b[01mrabinKarp.cu(44)\u001b[0m: \u001b[01;31merror\u001b[0m: no instance of constructor \u001b[01m\"thrust::transform_iterator<AdaptableUnaryFunction, Iterator, Reference, Value>::transform_iterator [with AdaptableUnaryFunction=RabinKarpHash, Iterator=const char *, Reference=unsigned long long, Value=thrust::use_default]\"\u001b[0m matches the argument list\n",
            "            argument types are: (thrust::detail::normal_iterator<thrust::device_ptr<char>>, RabinKarpHash)\n",
            "\n",
            "\u001b[01m\u001b[0m\u001b[01mrabinKarp.cu(48)\u001b[0m: \u001b[01;31merror\u001b[0m: namespace \u001b[01m\"thrust\"\u001b[0m has no member \"\u001b[01msearch\u001b[0m\"\n",
            "\n",
            "\u001b[01m\u001b[0m\u001b[01mrabinKarp.cu(30)\u001b[0m: \u001b[01;35mwarning\u001b[0m #550-D: variable \u001b[01m\"read\"\u001b[0m was set but never used\n",
            "\n",
            "\u001b[01m\u001b[0m\u001b[01m/usr/local/cuda/bin/../targets/x86_64-linux/include/thrust/system/cuda/detail/transform.h(119)\u001b[0m: \u001b[01;31merror\u001b[0m: no operator \"\u001b[01m=\u001b[0m\" matches these operands\n",
            "            operand types are: thrust::device_reference<char> = const char *const\n",
            "          detected during:\n",
            "            instantiation of \u001b[01m\"void thrust::cuda_cub::__transform::unary_transform_f<InputIt, OutputIt, thrust::cuda_cub::__transform::no_stencil_tag, TransformOp, Predicate>::operator()(Size) [with InputIt=thrust::pointer<const char *, thrust::cuda_cub::tag, thrust::use_default, thrust::use_default>, OutputIt=thrust::device_ptr<char>, TransformOp=thrust::identity<const char *>, Predicate=thrust::cuda_cub::__transform::always_true_predicate, Size=long]\"\u001b[0m \u001b[32m\n",
            "/usr/local/cuda/bin/../targets/x86_64-linux/include/thrust/system/cuda/detail/parallel_for.h(99): here\u001b[0m\n",
            "            instantiation of \u001b[01m\"void thrust::cuda_cub::__parallel_for::ParallelForAgent<F, Size>::consume_tile<IS_FULL_TILE>(F, Size, int) [with F=thrust::cuda_cub::__transform::unary_transform_f<thrust::pointer<const char *, thrust::cuda_cub::tag, thrust::use_default, thrust::use_default>, thrust::device_ptr<char>, thrust::cuda_cub::__transform::no_stencil_tag, thrust::identity<const char *>, thrust::cuda_cub::__transform::always_true_predicate>, Size=signed long, IS_FULL_TILE=true]\"\u001b[0m \u001b[32m\n",
            "/usr/local/cuda/bin/../targets/x86_64-linux/include/thrust/system/cuda/detail/parallel_for.h(115): here\u001b[0m\n",
            "            instantiation of \u001b[01m\"void thrust::cuda_cub::__parallel_for::ParallelForAgent<F, Size>::entry(F, Size, char *) [with F=thrust::cuda_cub::__transform::unary_transform_f<thrust::pointer<const char *, thrust::cuda_cub::tag, thrust::use_default, thrust::use_default>, thrust::device_ptr<char>, thrust::cuda_cub::__transform::no_stencil_tag, thrust::identity<const char *>, thrust::cuda_cub::__transform::always_true_predicate>, Size=signed long]\"\u001b[0m \u001b[32m\n",
            "/usr/local/cuda/bin/../targets/x86_64-linux/include/thrust/system/cuda/detail/core/agent_launcher.h(76): here\u001b[0m\n",
            "            instantiation of \u001b[01m\"void thrust::cuda_cub::core::_kernel_agent<Agent,_0,_1>(_0, _1) [with Agent=thrust::cuda_cub::__parallel_for::ParallelForAgent<thrust::cuda_cub::__transform::unary_transform_f<thrust::pointer<const char *, thrust::cuda_cub::tag, thrust::use_default, thrust::use_default>, thrust::device_ptr<char>, thrust::cuda_cub::__transform::no_stencil_tag, thrust::identity<const char *>, thrust::cuda_cub::__transform::always_true_predicate>, signed long>, _0=thrust::cuda_cub::__transform::unary_transform_f<thrust::pointer<const char *, thrust::cuda_cub::tag, thrust::use_default, thrust::use_default>, thrust::device_ptr<char>, thrust::cuda_cub::__transform::no_stencil_tag, thrust::identity<const char *>, thrust::cuda_cub::__transform::always_true_predicate>, _1=signed long]\"\u001b[0m \u001b[32m\n",
            "/usr/local/cuda/bin/../targets/x86_64-linux/include/thrust/system/cuda/detail/core/agent_launcher.h(926): here\u001b[0m\n",
            "            instantiation of \u001b[01m\"void thrust::cuda_cub::core::AgentLauncher<Agent>::launch_impl(thrust::detail::true_type, _0, _1) const [with Agent=thrust::cuda_cub::__parallel_for::ParallelForAgent<thrust::cuda_cub::__transform::unary_transform_f<thrust::pointer<const char *, thrust::cuda_cub::tag, thrust::use_default, thrust::use_default>, thrust::device_ptr<char>, thrust::cuda_cub::__transform::no_stencil_tag, thrust::identity<const char *>, thrust::cuda_cub::__transform::always_true_predicate>, signed long>, _0=thrust::cuda_cub::__transform::unary_transform_f<thrust::pointer<const char *, thrust::cuda_cub::tag, thrust::use_default, thrust::use_default>, thrust::device_ptr<char>, thrust::cuda_cub::__transform::no_stencil_tag, thrust::identity<const char *>, thrust::cuda_cub::__transform::always_true_predicate>, _1=signed long]\"\u001b[0m \u001b[32m\n",
            "/usr/local/cuda/bin/../targets/x86_64-linux/include/thrust/system/cuda/detail/core/agent_launcher.h(1077): here\u001b[0m\n",
            "            [ 19 instantiation contexts not shown ]\n",
            "            instantiation of \u001b[01m\"void thrust::detail::vector_base<T, Alloc>::range_init(ForwardIterator, ForwardIterator, thrust::random_access_traversal_tag) [with T=char, Alloc=thrust::device_allocator<char>, ForwardIterator=const char **]\"\u001b[0m \u001b[32m\n",
            "/usr/local/cuda/bin/../targets/x86_64-linux/include/thrust/detail/vector_base.inl(254): here\u001b[0m\n",
            "            instantiation of \u001b[01m\"void thrust::detail::vector_base<T, Alloc>::range_init(InputIterator, InputIterator) [with T=char, Alloc=thrust::device_allocator<char>, InputIterator=const char **]\"\u001b[0m \u001b[32m\n",
            "/usr/local/cuda/bin/../targets/x86_64-linux/include/thrust/detail/vector_base.inl(244): here\u001b[0m\n",
            "            instantiation of \u001b[01m\"void thrust::detail::vector_base<T, Alloc>::init_dispatch(IteratorOrIntegralType, IteratorOrIntegralType, thrust::detail::false_type) [with T=char, Alloc=thrust::device_allocator<char>, IteratorOrIntegralType=const char **]\"\u001b[0m \u001b[32m\n",
            "/usr/local/cuda/bin/../targets/x86_64-linux/include/thrust/detail/vector_base.inl(293): here\u001b[0m\n",
            "            instantiation of \u001b[01m\"thrust::detail::vector_base<T, Alloc>::vector_base(InputIterator, InputIterator) [with T=char, Alloc=thrust::device_allocator<char>, InputIterator=const char **]\"\u001b[0m \u001b[32m\n",
            "/usr/local/cuda/bin/../targets/x86_64-linux/include/thrust/device_vector.h(206): here\u001b[0m\n",
            "            instantiation of \u001b[01m\"thrust::device_vector<T, Alloc>::device_vector(InputIterator, InputIterator) [with T=char, Alloc=thrust::device_allocator<char>, InputIterator=const char **]\"\u001b[0m \u001b[32m\n",
            "rabinKarp.cu(41): here\u001b[0m\n",
            "\n",
            "\u001b[01m\u001b[0m\u001b[01m/usr/local/cuda/bin/../targets/x86_64-linux/include/thrust/system/detail/sequential/general_copy.h(90)\u001b[0m: \u001b[01;31merror\u001b[0m: no operator \"\u001b[01m=\u001b[0m\" matches these operands\n",
            "            operand types are: thrust::device_reference<char> = value_type\n",
            "          detected during:\n",
            "            instantiation of \u001b[01m\"thrust::detail::disable_if<thrust::system::detail::sequential::general_copy_detail::reference_is_assignable<InputIterator, OutputIterator>::value, void>::type thrust::system::detail::sequential::general_copy_detail::iter_assign(OutputIterator, InputIterator) [with OutputIterator=thrust::device_ptr<char>, InputIterator=thrust::pointer<const char *, thrust::cuda_cub::tag, thrust::use_default, thrust::use_default>]\"\u001b[0m \u001b[32m\n",
            "(134): here\u001b[0m\n",
            "            instantiation of \u001b[01m\"OutputIterator thrust::system::detail::sequential::general_copy_n(InputIterator, Size, OutputIterator) [with InputIterator=thrust::pointer<const char *, thrust::cuda_cub::tag, thrust::use_default, thrust::use_default>, Size=std::ptrdiff_t, OutputIterator=thrust::device_ptr<char>]\"\u001b[0m \u001b[32m\n",
            "/usr/local/cuda/bin/../targets/x86_64-linux/include/thrust/system/detail/sequential/copy.inl(102): here\u001b[0m\n",
            "            instantiation of \u001b[01m\"OutputIterator thrust::system::detail::sequential::copy_detail::copy_n(InputIterator, Size, OutputIterator, thrust::detail::false_type) [with InputIterator=thrust::pointer<const char *, thrust::cuda_cub::tag, thrust::use_default, thrust::use_default>, Size=std::ptrdiff_t, OutputIterator=thrust::device_ptr<char>]\"\u001b[0m \u001b[32m\n",
            "/usr/local/cuda/bin/../targets/x86_64-linux/include/thrust/system/detail/sequential/copy.inl(136): here\u001b[0m\n",
            "            instantiation of \u001b[01m\"OutputIterator thrust::system::detail::sequential::copy_n(thrust::system::detail::sequential::execution_policy<DerivedPolicy> &, InputIterator, Size, OutputIterator) [with DerivedPolicy=thrust::detail::seq_t, InputIterator=thrust::pointer<const char *, thrust::cuda_cub::tag, thrust::use_default, thrust::use_default>, Size=std::ptrdiff_t, OutputIterator=thrust::device_ptr<char>]\"\u001b[0m \u001b[32m\n",
            "/usr/local/cuda/bin/../targets/x86_64-linux/include/thrust/detail/copy.inl(48): here\u001b[0m\n",
            "            instantiation of \u001b[01m\"OutputIterator thrust::copy_n(const thrust::detail::execution_policy_base<System> &, InputIterator, Size, OutputIterator) [with System=thrust::detail::seq_t, InputIterator=thrust::pointer<const char *, thrust::cuda_cub::tag, thrust::use_default, thrust::use_default>, Size=std::ptrdiff_t, OutputIterator=thrust::device_ptr<char>]\"\u001b[0m \u001b[32m\n",
            "/usr/local/cuda/bin/../targets/x86_64-linux/include/thrust/system/cuda/detail/copy.h(159): here\u001b[0m\n",
            "            [ 11 instantiation contexts not shown ]\n",
            "            instantiation of \u001b[01m\"void thrust::detail::vector_base<T, Alloc>::range_init(ForwardIterator, ForwardIterator, thrust::random_access_traversal_tag) [with T=char, Alloc=thrust::device_allocator<char>, ForwardIterator=const char **]\"\u001b[0m \u001b[32m\n",
            "/usr/local/cuda/bin/../targets/x86_64-linux/include/thrust/detail/vector_base.inl(254): here\u001b[0m\n",
            "            instantiation of \u001b[01m\"void thrust::detail::vector_base<T, Alloc>::range_init(InputIterator, InputIterator) [with T=char, Alloc=thrust::device_allocator<char>, InputIterator=const char **]\"\u001b[0m \u001b[32m\n",
            "/usr/local/cuda/bin/../targets/x86_64-linux/include/thrust/detail/vector_base.inl(244): here\u001b[0m\n",
            "            instantiation of \u001b[01m\"void thrust::detail::vector_base<T, Alloc>::init_dispatch(IteratorOrIntegralType, IteratorOrIntegralType, thrust::detail::false_type) [with T=char, Alloc=thrust::device_allocator<char>, IteratorOrIntegralType=const char **]\"\u001b[0m \u001b[32m\n",
            "/usr/local/cuda/bin/../targets/x86_64-linux/include/thrust/detail/vector_base.inl(293): here\u001b[0m\n",
            "            instantiation of \u001b[01m\"thrust::detail::vector_base<T, Alloc>::vector_base(InputIterator, InputIterator) [with T=char, Alloc=thrust::device_allocator<char>, InputIterator=const char **]\"\u001b[0m \u001b[32m\n",
            "/usr/local/cuda/bin/../targets/x86_64-linux/include/thrust/device_vector.h(206): here\u001b[0m\n",
            "            instantiation of \u001b[01m\"thrust::device_vector<T, Alloc>::device_vector(InputIterator, InputIterator) [with T=char, Alloc=thrust::device_allocator<char>, InputIterator=const char **]\"\u001b[0m \u001b[32m\n",
            "rabinKarp.cu(41): here\u001b[0m\n",
            "\n",
            "4 errors detected in the compilation of \"rabinKarp.cu\".\n"
          ]
        },
        {
          "output_type": "error",
          "ename": "CalledProcessError",
          "evalue": "ignored",
          "traceback": [
            "\u001b[0;31m---------------------------------------------------------------------------\u001b[0m",
            "\u001b[0;31mCalledProcessError\u001b[0m                        Traceback (most recent call last)",
            "\u001b[0;32m<ipython-input-2-948c1a7b5700>\u001b[0m in \u001b[0;36m<cell line: 1>\u001b[0;34m()\u001b[0m\n\u001b[0;32m----> 1\u001b[0;31m \u001b[0mget_ipython\u001b[0m\u001b[0;34m(\u001b[0m\u001b[0;34m)\u001b[0m\u001b[0;34m.\u001b[0m\u001b[0mrun_cell_magic\u001b[0m\u001b[0;34m(\u001b[0m\u001b[0;34m'shell'\u001b[0m\u001b[0;34m,\u001b[0m \u001b[0;34m''\u001b[0m\u001b[0;34m,\u001b[0m \u001b[0;34m'nvcc rabinKarp.cu -o rabinKarp\\n'\u001b[0m\u001b[0;34m)\u001b[0m\u001b[0;34m\u001b[0m\u001b[0;34m\u001b[0m\u001b[0m\n\u001b[0m",
            "\u001b[0;32m/usr/local/lib/python3.10/dist-packages/google/colab/_shell.py\u001b[0m in \u001b[0;36mrun_cell_magic\u001b[0;34m(self, magic_name, line, cell)\u001b[0m\n\u001b[1;32m    332\u001b[0m     \u001b[0;32mif\u001b[0m \u001b[0mline\u001b[0m \u001b[0;32mand\u001b[0m \u001b[0;32mnot\u001b[0m \u001b[0mcell\u001b[0m\u001b[0;34m:\u001b[0m\u001b[0;34m\u001b[0m\u001b[0;34m\u001b[0m\u001b[0m\n\u001b[1;32m    333\u001b[0m       \u001b[0mcell\u001b[0m \u001b[0;34m=\u001b[0m \u001b[0;34m' '\u001b[0m\u001b[0;34m\u001b[0m\u001b[0;34m\u001b[0m\u001b[0m\n\u001b[0;32m--> 334\u001b[0;31m     \u001b[0;32mreturn\u001b[0m \u001b[0msuper\u001b[0m\u001b[0;34m(\u001b[0m\u001b[0;34m)\u001b[0m\u001b[0;34m.\u001b[0m\u001b[0mrun_cell_magic\u001b[0m\u001b[0;34m(\u001b[0m\u001b[0mmagic_name\u001b[0m\u001b[0;34m,\u001b[0m \u001b[0mline\u001b[0m\u001b[0;34m,\u001b[0m \u001b[0mcell\u001b[0m\u001b[0;34m)\u001b[0m\u001b[0;34m\u001b[0m\u001b[0;34m\u001b[0m\u001b[0m\n\u001b[0m\u001b[1;32m    335\u001b[0m \u001b[0;34m\u001b[0m\u001b[0m\n\u001b[1;32m    336\u001b[0m \u001b[0;34m\u001b[0m\u001b[0m\n",
            "\u001b[0;32m/usr/local/lib/python3.10/dist-packages/IPython/core/interactiveshell.py\u001b[0m in \u001b[0;36mrun_cell_magic\u001b[0;34m(self, magic_name, line, cell)\u001b[0m\n\u001b[1;32m   2471\u001b[0m             \u001b[0;32mwith\u001b[0m \u001b[0mself\u001b[0m\u001b[0;34m.\u001b[0m\u001b[0mbuiltin_trap\u001b[0m\u001b[0;34m:\u001b[0m\u001b[0;34m\u001b[0m\u001b[0;34m\u001b[0m\u001b[0m\n\u001b[1;32m   2472\u001b[0m                 \u001b[0margs\u001b[0m \u001b[0;34m=\u001b[0m \u001b[0;34m(\u001b[0m\u001b[0mmagic_arg_s\u001b[0m\u001b[0;34m,\u001b[0m \u001b[0mcell\u001b[0m\u001b[0;34m)\u001b[0m\u001b[0;34m\u001b[0m\u001b[0;34m\u001b[0m\u001b[0m\n\u001b[0;32m-> 2473\u001b[0;31m                 \u001b[0mresult\u001b[0m \u001b[0;34m=\u001b[0m \u001b[0mfn\u001b[0m\u001b[0;34m(\u001b[0m\u001b[0;34m*\u001b[0m\u001b[0margs\u001b[0m\u001b[0;34m,\u001b[0m \u001b[0;34m**\u001b[0m\u001b[0mkwargs\u001b[0m\u001b[0;34m)\u001b[0m\u001b[0;34m\u001b[0m\u001b[0;34m\u001b[0m\u001b[0m\n\u001b[0m\u001b[1;32m   2474\u001b[0m             \u001b[0;32mreturn\u001b[0m \u001b[0mresult\u001b[0m\u001b[0;34m\u001b[0m\u001b[0;34m\u001b[0m\u001b[0m\n\u001b[1;32m   2475\u001b[0m \u001b[0;34m\u001b[0m\u001b[0m\n",
            "\u001b[0;32m/usr/local/lib/python3.10/dist-packages/google/colab/_system_commands.py\u001b[0m in \u001b[0;36m_shell_cell_magic\u001b[0;34m(args, cmd)\u001b[0m\n\u001b[1;32m    110\u001b[0m   \u001b[0mresult\u001b[0m \u001b[0;34m=\u001b[0m \u001b[0m_run_command\u001b[0m\u001b[0;34m(\u001b[0m\u001b[0mcmd\u001b[0m\u001b[0;34m,\u001b[0m \u001b[0mclear_streamed_output\u001b[0m\u001b[0;34m=\u001b[0m\u001b[0;32mFalse\u001b[0m\u001b[0;34m)\u001b[0m\u001b[0;34m\u001b[0m\u001b[0;34m\u001b[0m\u001b[0m\n\u001b[1;32m    111\u001b[0m   \u001b[0;32mif\u001b[0m \u001b[0;32mnot\u001b[0m \u001b[0mparsed_args\u001b[0m\u001b[0;34m.\u001b[0m\u001b[0mignore_errors\u001b[0m\u001b[0;34m:\u001b[0m\u001b[0;34m\u001b[0m\u001b[0;34m\u001b[0m\u001b[0m\n\u001b[0;32m--> 112\u001b[0;31m     \u001b[0mresult\u001b[0m\u001b[0;34m.\u001b[0m\u001b[0mcheck_returncode\u001b[0m\u001b[0;34m(\u001b[0m\u001b[0;34m)\u001b[0m\u001b[0;34m\u001b[0m\u001b[0;34m\u001b[0m\u001b[0m\n\u001b[0m\u001b[1;32m    113\u001b[0m   \u001b[0;32mreturn\u001b[0m \u001b[0mresult\u001b[0m\u001b[0;34m\u001b[0m\u001b[0;34m\u001b[0m\u001b[0m\n\u001b[1;32m    114\u001b[0m \u001b[0;34m\u001b[0m\u001b[0m\n",
            "\u001b[0;32m/usr/local/lib/python3.10/dist-packages/google/colab/_system_commands.py\u001b[0m in \u001b[0;36mcheck_returncode\u001b[0;34m(self)\u001b[0m\n\u001b[1;32m    135\u001b[0m   \u001b[0;32mdef\u001b[0m \u001b[0mcheck_returncode\u001b[0m\u001b[0;34m(\u001b[0m\u001b[0mself\u001b[0m\u001b[0;34m)\u001b[0m\u001b[0;34m:\u001b[0m\u001b[0;34m\u001b[0m\u001b[0;34m\u001b[0m\u001b[0m\n\u001b[1;32m    136\u001b[0m     \u001b[0;32mif\u001b[0m \u001b[0mself\u001b[0m\u001b[0;34m.\u001b[0m\u001b[0mreturncode\u001b[0m\u001b[0;34m:\u001b[0m\u001b[0;34m\u001b[0m\u001b[0;34m\u001b[0m\u001b[0m\n\u001b[0;32m--> 137\u001b[0;31m       raise subprocess.CalledProcessError(\n\u001b[0m\u001b[1;32m    138\u001b[0m           \u001b[0mreturncode\u001b[0m\u001b[0;34m=\u001b[0m\u001b[0mself\u001b[0m\u001b[0;34m.\u001b[0m\u001b[0mreturncode\u001b[0m\u001b[0;34m,\u001b[0m \u001b[0mcmd\u001b[0m\u001b[0;34m=\u001b[0m\u001b[0mself\u001b[0m\u001b[0;34m.\u001b[0m\u001b[0margs\u001b[0m\u001b[0;34m,\u001b[0m \u001b[0moutput\u001b[0m\u001b[0;34m=\u001b[0m\u001b[0mself\u001b[0m\u001b[0;34m.\u001b[0m\u001b[0moutput\u001b[0m\u001b[0;34m\u001b[0m\u001b[0;34m\u001b[0m\u001b[0m\n\u001b[1;32m    139\u001b[0m       )\n",
            "\u001b[0;31mCalledProcessError\u001b[0m: Command 'nvcc rabinKarp.cu -o rabinKarp\n' returned non-zero exit status 1."
          ]
        }
      ]
    }
  ]
}