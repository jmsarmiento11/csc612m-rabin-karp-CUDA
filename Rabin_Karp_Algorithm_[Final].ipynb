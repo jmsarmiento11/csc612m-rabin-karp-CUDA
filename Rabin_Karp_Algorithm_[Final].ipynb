{
  "nbformat": 4,
  "nbformat_minor": 0,
  "metadata": {
    "colab": {
      "provenance": [],
      "gpuType": "T4",
      "authorship_tag": "ABX9TyPk0/Eir6RoSOwzTGeqi1lp",
      "include_colab_link": true
    },
    "kernelspec": {
      "name": "python3",
      "display_name": "Python 3"
    },
    "language_info": {
      "name": "python"
    },
    "accelerator": "GPU"
  },
  "cells": [
    {
      "cell_type": "markdown",
      "metadata": {
        "id": "view-in-github",
        "colab_type": "text"
      },
      "source": [
        "<a href=\"https://colab.research.google.com/github/jmsarmiento11/csc612m-rabin-karp-CUDA/blob/main/Rabin_Karp_Algorithm_%5BFinal%5D.ipynb\" target=\"_parent\"><img src=\"https://colab.research.google.com/assets/colab-badge.svg\" alt=\"Open In Colab\"/></a>"
      ]
    },
    {
      "cell_type": "markdown",
      "source": [
        "Rabin-Karp C++ Program"
      ],
      "metadata": {
        "id": "FHSBmL3RViMZ"
      }
    },
    {
      "cell_type": "code",
      "execution_count": null,
      "metadata": {
        "colab": {
          "base_uri": "https://localhost:8080/"
        },
        "id": "ZvOekAMiTmks",
        "outputId": "764f0316-01f9-48ec-ef4f-05ae4af065f3"
      },
      "outputs": [
        {
          "output_type": "stream",
          "name": "stdout",
          "text": [
            "Overwriting c_rabinKarp.c\n"
          ]
        }
      ],
      "source": [
        "%%writefile c_rabinKarp.c\n",
        "#include <stdio.h>\n",
        "#include <stdlib.h>\n",
        "#include <string.h>\n",
        "#include <stdbool.h>\n",
        "#include <limits.h>\n",
        "#include <time.h>\n",
        "\n",
        "const int BASE = 256;\n",
        "\n",
        "// Custom power function to calculate BASE^(m-1) for integers.\n",
        "unsigned long long int customPow(int base, int exponent) {\n",
        "    unsigned long long int result = 1;\n",
        "    while (exponent > 0) {\n",
        "        if (exponent & 1) {\n",
        "            result *= base;\n",
        "        }\n",
        "        base *= base;\n",
        "        exponent >>= 1;\n",
        "    }\n",
        "    return result;\n",
        "}\n",
        "\n",
        "// Function to calculate the hash value for a given substring using prefix sum.\n",
        "unsigned long long int calculateHash(const char* str, int start, int end) {\n",
        "    unsigned long long int hashValue = 0;\n",
        "    for (int i = start; i <= end; ++i) {\n",
        "        hashValue = (hashValue * BASE + str[i]) % INT_MAX;\n",
        "    }\n",
        "    return hashValue;\n",
        "}\n",
        "\n",
        "// Function to find the occurrences of a pattern in the text using Rabin-Karp algorithm.\n",
        "void rabinKarpSearch(const char* text, const char* patterns[], int numPatterns) {\n",
        "    int n = strlen(text);\n",
        "\n",
        "    // Start the timer.\n",
        "    clock_t start = clock();\n",
        "\n",
        "    // Loop through each pattern.\n",
        "    for (int k = 0; k < numPatterns; ++k) {\n",
        "        const char* pattern = patterns[k];\n",
        "        int m = strlen(pattern);\n",
        "        unsigned long long int patternHash = calculateHash(pattern, 0, m - 1);\n",
        "\n",
        "        bool patternFound = false;\n",
        "\n",
        "        // Loop through the text with a sliding window of length m.\n",
        "        for (int i = 0; i <= n - m; ++i) {\n",
        "            unsigned long long int currHash = calculateHash(text, i, i + m - 1);\n",
        "\n",
        "            // Check if the hash value matches for the current window.\n",
        "            if (patternHash == currHash) {\n",
        "                bool found = true;\n",
        "\n",
        "                // If the hash values match, compare the pattern with the text for an exact match.\n",
        "                for (int j = 0; j < m; ++j) {\n",
        "                    if (text[i + j] != pattern[j]) {\n",
        "                        found = false;\n",
        "                        break;\n",
        "                    }\n",
        "                }\n",
        "\n",
        "                // If the pattern is found, print its position and set the flag to true.\n",
        "                if (found) {\n",
        "                    printf(\"Pattern \\\"%s\\\" found at position: %d\\n\", pattern, i);\n",
        "                    patternFound = true;\n",
        "                }\n",
        "            }\n",
        "        }\n",
        "\n",
        "        // If the pattern is not found in the text, display a message.\n",
        "        if (!patternFound) {\n",
        "            printf(\"Pattern \\\"%s\\\" not found in the text.\\n\", pattern);\n",
        "        }\n",
        "    }\n",
        "\n",
        "    // End the timer and calculate elapsed time.\n",
        "    clock_t end = clock();\n",
        "    double elapsed_time = (double)(end - start)*1e6 / CLOCKS_PER_SEC;\n",
        "    printf(\"Searching process is done. Elapsed time: %.6f microseconds\\n\", elapsed_time);\n",
        "}\n",
        "\n",
        "int main() {\n",
        "    FILE* inputFile = fopen(\"text.txt\", \"r\");\n",
        "    if (!inputFile) {\n",
        "        printf(\"Error opening the file.\\n\");\n",
        "        return 1;\n",
        "    }\n",
        "\n",
        "    char* text = NULL;\n",
        "    size_t len = 0;\n",
        "    ssize_t read;\n",
        "\n",
        "    // Read the entire text from the file.\n",
        "    read = getline(&text, &len, inputFile);\n",
        "    fclose(inputFile);\n",
        "\n",
        "    const char* patterns[] = {\"mark\", \"sarmiento\"};\n",
        "    int numPatterns = sizeof(patterns) / sizeof(patterns[0]);\n",
        "\n",
        "    // Call the Rabin-Karp search function to find all patterns in the text.\n",
        "    rabinKarpSearch(text, patterns, numPatterns);\n",
        "\n",
        "    free(text);\n",
        "    return 0;\n",
        "}\n"
      ]
    },
    {
      "cell_type": "code",
      "source": [
        "%%shell\n",
        "g++ c_rabinKarp.c -o c_rabinKarp"
      ],
      "metadata": {
        "colab": {
          "base_uri": "https://localhost:8080/"
        },
        "id": "MfndA9vUWHzN",
        "outputId": "27e60e0e-99eb-49be-f42b-29c2b7b56192"
      },
      "execution_count": null,
      "outputs": [
        {
          "output_type": "execute_result",
          "data": {
            "text/plain": []
          },
          "metadata": {},
          "execution_count": 8
        }
      ]
    },
    {
      "cell_type": "code",
      "source": [
        "%%shell\n",
        "./c_rabinKarp"
      ],
      "metadata": {
        "colab": {
          "base_uri": "https://localhost:8080/"
        },
        "id": "Xkz4bat2Wp3z",
        "outputId": "2262514a-efd0-4370-b3f9-ad02ec790fae"
      },
      "execution_count": null,
      "outputs": [
        {
          "output_type": "stream",
          "name": "stdout",
          "text": [
            "Pattern \"mark\" not found in the text.\n",
            "Pattern \"sarmiento\" not found in the text.\n",
            "Searching process is done. Elapsed time: 153.000000 microseconds\n"
          ]
        },
        {
          "output_type": "execute_result",
          "data": {
            "text/plain": []
          },
          "metadata": {},
          "execution_count": 9
        }
      ]
    },
    {
      "cell_type": "markdown",
      "source": [
        "Rabin-Karp CUDA V1.0"
      ],
      "metadata": {
        "id": "gPnvyYINaSoP"
      }
    },
    {
      "cell_type": "code",
      "source": [
        "%%writefile rabinKarp.cu\n",
        "#include <stdio.h>\n",
        "#include <stdlib.h>\n",
        "#include <string.h>\n",
        "\n",
        "const int BASE = 256;\n",
        "\n",
        "__device__ unsigned long long int customPow(int base, int exponent) {\n",
        "    unsigned long long int result = 1;\n",
        "    while (exponent > 0) {\n",
        "        if (exponent & 1) {\n",
        "            result *= base;\n",
        "        }\n",
        "        base *= base;\n",
        "        exponent >>= 1;\n",
        "    }\n",
        "    return result;\n",
        "}\n",
        "\n",
        "__device__ unsigned long long int calculateHash(const char* str, int start, int end) {\n",
        "    unsigned long long int hashValue = 0;\n",
        "    for (int i = start; i <= end; ++i) {\n",
        "        hashValue = (hashValue * BASE + str[i]) % INT_MAX;\n",
        "    }\n",
        "    return hashValue;\n",
        "}\n",
        "\n",
        "__global__ void rabinKarpSearch(const char* text, const char* pattern, int patternIndex, int textLength, int patternLength, bool* patternFound) {\n",
        "    int tid = blockIdx.x * blockDim.x + threadIdx.x;\n",
        "    int numThreads = gridDim.x * blockDim.x;\n",
        "    int n = textLength;\n",
        "    int m = patternLength;\n",
        "\n",
        "    // Calculate the pattern hash value outside the loop since it is constant.\n",
        "    unsigned long long int patternHash = calculateHash(pattern, 0, m - 1);\n",
        "\n",
        "    // Loop over the text with grid-stride.\n",
        "    for (int i = tid; i <= n - m; i += numThreads) {\n",
        "        unsigned long long int currHash = calculateHash(text, i, i + m - 1);\n",
        "\n",
        "        if (patternHash == currHash) {\n",
        "            bool found = true;\n",
        "            for (int j = 0; j < m; ++j) {\n",
        "                if (text[i + j] != pattern[j]) {\n",
        "                    found = false;\n",
        "                    break;\n",
        "                }\n",
        "            }\n",
        "\n",
        "            if (found) {\n",
        "                printf(\"Pattern %d found at position: %d\\n\", patternIndex, i);\n",
        "                patternFound[patternIndex] = true;\n",
        "                return; // Return immediately when pattern is found.\n",
        "            }\n",
        "        }\n",
        "    }\n",
        "}\n",
        "\n",
        "int main() {\n",
        "    FILE* inputFile = fopen(\"text.txt\", \"r\");\n",
        "    if (!inputFile) {\n",
        "        printf(\"Error opening the file.\\n\");\n",
        "        return 1;\n",
        "    }\n",
        "\n",
        "    char* text = NULL;\n",
        "    size_t len = 0;\n",
        "    ssize_t read;\n",
        "\n",
        "    // Read the entire text from the file.\n",
        "    read = getline(&text, &len, inputFile);\n",
        "    fclose(inputFile);\n",
        "\n",
        "    const char* patterns[] = {\"dog\", \"fox\", \"lazy\", \"jump\", \"over\", \"quick\", \"brown\", \"jumps\", \"the\", \"sleepy\"};\n",
        "    int numPatterns = sizeof(patterns) / sizeof(patterns[0]);\n",
        "\n",
        "    char* cudaText;\n",
        "    int textLength = strlen(text);\n",
        "\n",
        "    // Allocate memory and copy text to the GPU.\n",
        "    cudaMalloc((void**)&cudaText, textLength);\n",
        "    cudaMemcpy(cudaText, text, textLength, cudaMemcpyHostToDevice);\n",
        "\n",
        "    bool patternFound[numPatterns];\n",
        "    for (int i = 0; i < numPatterns; i++) {\n",
        "        patternFound[i] = false;\n",
        "    }\n",
        "\n",
        "    bool* cudaPatternFound;\n",
        "    cudaMalloc((void**)&cudaPatternFound, numPatterns * sizeof(bool));\n",
        "    cudaMemcpy(cudaPatternFound, patternFound, numPatterns * sizeof(bool), cudaMemcpyHostToDevice);\n",
        "\n",
        "    for (int i = 0; i < numPatterns; i++) {\n",
        "        int patternLength = strlen(patterns[i]);\n",
        "        char* cudaPattern;\n",
        "        cudaMalloc((void**)&cudaPattern, patternLength);\n",
        "        cudaMemcpy(cudaPattern, patterns[i], patternLength, cudaMemcpyHostToDevice);\n",
        "\n",
        "        // Launch the kernel with appropriate thread configuration.\n",
        "        int blockSize = 256;\n",
        "        int numBlocks = (textLength + blockSize - 1) / blockSize;\n",
        "        rabinKarpSearch<<<numBlocks, blockSize>>>(cudaText, cudaPattern, i, textLength, patternLength, cudaPatternFound);\n",
        "\n",
        "        cudaFree(cudaPattern);\n",
        "    }\n",
        "\n",
        "    cudaMemcpy(patternFound, cudaPatternFound, numPatterns * sizeof(bool), cudaMemcpyDeviceToHost);\n",
        "    cudaFree(cudaPatternFound);\n",
        "\n",
        "    // Print message for patterns that are not found.\n",
        "    for (int i = 0; i < numPatterns; i++) {\n",
        "        if (!patternFound[i]) {\n",
        "            printf(\"Pattern %d not found.\\n\", i);\n",
        "        }\n",
        "    }\n",
        "\n",
        "    // Free GPU memory.\n",
        "    cudaFree(cudaText);\n",
        "\n",
        "    free(text);\n",
        "\n",
        "    return 0;\n",
        "}\n"
      ],
      "metadata": {
        "colab": {
          "base_uri": "https://localhost:8080/"
        },
        "id": "OKwAOaAlaRUj",
        "outputId": "f11490ef-360a-4743-cec2-719ecfc383e9"
      },
      "execution_count": null,
      "outputs": [
        {
          "output_type": "stream",
          "name": "stdout",
          "text": [
            "Writing rabinKarp.cu\n"
          ]
        }
      ]
    },
    {
      "cell_type": "code",
      "source": [
        "%%shell\n",
        "nvcc rabinKarp.cu -o rabinKarp"
      ],
      "metadata": {
        "colab": {
          "base_uri": "https://localhost:8080/"
        },
        "id": "iOnh58fMa7Ap",
        "outputId": "f4b46d97-0280-4321-fc49-ee2ea68508d4"
      },
      "execution_count": null,
      "outputs": [
        {
          "output_type": "stream",
          "name": "stdout",
          "text": [
            "\u001b[01m\u001b[0m\u001b[01mrabinKarp.cu(67)\u001b[0m: \u001b[01;35mwarning\u001b[0m #550-D: variable \u001b[01m\"read\"\u001b[0m was set but never used\n",
            "\n"
          ]
        },
        {
          "output_type": "execute_result",
          "data": {
            "text/plain": []
          },
          "metadata": {},
          "execution_count": 2
        }
      ]
    },
    {
      "cell_type": "code",
      "source": [
        "%%shell\n",
        "nvprof ./rabinKarp"
      ],
      "metadata": {
        "colab": {
          "base_uri": "https://localhost:8080/"
        },
        "id": "a0dVJbh8blJ8",
        "outputId": "ce1bf7fb-a194-4348-a446-15aa864ac732"
      },
      "execution_count": null,
      "outputs": [
        {
          "output_type": "stream",
          "name": "stdout",
          "text": [
            "==729== NVPROF is profiling process 729, command: ./rabinKarp\n",
            "Pattern 0 found at position: 520\n",
            "Pattern 0 found at position: 325\n",
            "Pattern 0 found at position: 784\n",
            "Pattern 0 found at position: 818\n",
            "Pattern 0 found at position: 178\n",
            "Pattern 0 found at position: 40\n",
            "Pattern 0 found at position: 49\n",
            "Pattern 0 found at position: 123\n",
            "Pattern 1 found at position: 708\n",
            "Pattern 1 found at position: 806\n",
            "Pattern 1 found at position: 16\n",
            "Pattern 1 found at position: 246\n",
            "Pattern 1 found at position: 88\n",
            "Pattern 1 found at position: 471\n",
            "Pattern 1 found at position: 219\n",
            "Pattern 1 found at position: 62\n",
            "Pattern 1 found at position: 144\n",
            "Pattern 1 found at position: 157\n",
            "Pattern 2 found at position: 35\n",
            "Pattern 3 found at position: 20\n",
            "Pattern 4 found at position: 26\n",
            "Pattern 5 found at position: 4\n",
            "Pattern 6 found at position: 10\n",
            "Pattern 7 found at position: 20\n",
            "Pattern 8 found at position: 616\n",
            "Pattern 8 found at position: 868\n",
            "Pattern 8 found at position: 649\n",
            "Pattern 8 found at position: 780\n",
            "Pattern 8 found at position: 802\n",
            "Pattern 8 found at position: 814\n",
            "Pattern 8 found at position: 704\n",
            "Pattern 8 found at position: 730\n",
            "Pattern 8 found at position: 58\n",
            "Pattern 8 found at position: 140\n",
            "Pattern 8 found at position: 153\n",
            "Pattern 8 found at position: 431\n",
            "Pattern 8 found at position: 446\n",
            "Pattern 8 found at position: 31\n",
            "Pattern 9 not found.\n",
            "==729== Profiling application: ./rabinKarp\n",
            "==729== Profiling result:\n",
            "            Type  Time(%)      Time     Calls       Avg       Min       Max  Name\n",
            " GPU activities:   97.73%  853.08us        10  85.308us  7.3280us  104.86us  rabinKarpSearch(char const *, char const *, int, int, int, bool*)\n",
            "                    2.02%  17.664us        12  1.4720us  1.3440us  2.1120us  [CUDA memcpy HtoD]\n",
            "                    0.24%  2.1120us         1  2.1120us  2.1120us  2.1120us  [CUDA memcpy DtoH]\n",
            "      API calls:   99.15%  301.41ms        12  25.117ms  3.9000us  301.35ms  cudaMalloc\n",
            "                    0.38%  1.1659ms        12  97.161us  4.0770us  147.08us  cudaFree\n",
            "                    0.33%  1.0148ms         1  1.0148ms  1.0148ms  1.0148ms  cuDeviceGetPCIBusId\n",
            "                    0.04%  135.72us        13  10.440us  4.3600us  25.954us  cudaMemcpy\n",
            "                    0.04%  132.92us        10  13.292us  8.5220us  48.032us  cudaLaunchKernel\n",
            "                    0.04%  117.51us       101  1.1630us     135ns  48.579us  cuDeviceGetAttribute\n",
            "                    0.01%  24.181us         1  24.181us  24.181us  24.181us  cuDeviceGetName\n",
            "                    0.00%  2.3420us         3     780ns     215ns  1.9000us  cuDeviceGetCount\n",
            "                    0.00%     894ns         2     447ns     186ns     708ns  cuDeviceGet\n",
            "                    0.00%     533ns         1     533ns     533ns     533ns  cuModuleGetLoadingMode\n",
            "                    0.00%     473ns         1     473ns     473ns     473ns  cuDeviceTotalMem\n",
            "                    0.00%     229ns         1     229ns     229ns     229ns  cuDeviceGetUuid\n"
          ]
        },
        {
          "output_type": "execute_result",
          "data": {
            "text/plain": []
          },
          "metadata": {},
          "execution_count": 3
        }
      ]
    },
    {
      "cell_type": "markdown",
      "source": [
        "Rabin-Karp CUDA V2.0 (With Thrust Library)"
      ],
      "metadata": {
        "id": "kYsmGG350y2w"
      }
    },
    {
      "cell_type": "code",
      "source": [
        "%%writefile rabinKarp2.cu\n",
        "#include <stdio.h>\n",
        "#include <thrust/device_vector.h>\n",
        "#include <thrust/host_vector.h>\n",
        "\n",
        "const int BASE = 256;\n",
        "\n",
        "__device__ unsigned long long int customPow(int base, int exponent) {\n",
        "    unsigned long long int result = 1;\n",
        "    while (exponent > 0) {\n",
        "        if (exponent & 1) {\n",
        "            result *= base;\n",
        "        }\n",
        "        base *= base;\n",
        "        exponent >>= 1;\n",
        "    }\n",
        "    return result;\n",
        "}\n",
        "\n",
        "__device__ unsigned long long int calculateHash(const char* str, int start, int end) {\n",
        "    unsigned long long int hashValue = 0;\n",
        "    for (int i = start; i <= end; ++i) {\n",
        "        hashValue = (hashValue * BASE + str[i]) % INT_MAX;\n",
        "    }\n",
        "    return hashValue;\n",
        "}\n",
        "\n",
        "__global__ void rabinKarpSearch(const char* text, const char* pattern, int patternIndex, int textLength, int patternLength, bool* patternFound) {\n",
        "    int tid = blockIdx.x * blockDim.x + threadIdx.x;\n",
        "    int numThreads = gridDim.x * blockDim.x;\n",
        "    int n = textLength;\n",
        "    int m = patternLength;\n",
        "\n",
        "    // Calculate the pattern hash value outside the loop since it is constant.\n",
        "    unsigned long long int patternHash = calculateHash(pattern, 0, m - 1);\n",
        "\n",
        "    // Loop over the text with grid-stride.\n",
        "    for (int i = tid; i <= n - m; i += numThreads) {\n",
        "        unsigned long long int currHash = calculateHash(text, i, i + m - 1);\n",
        "\n",
        "        if (patternHash == currHash) {\n",
        "            bool found = true;\n",
        "            for (int j = 0; j < m; ++j) {\n",
        "                if (text[i + j] != pattern[j]) {\n",
        "                    found = false;\n",
        "                    break;\n",
        "                }\n",
        "            }\n",
        "\n",
        "            if (found) {\n",
        "                printf(\"Pattern %d found at position: %d\\n\", patternIndex, i);\n",
        "                patternFound[patternIndex] = true;\n",
        "                return; // Return immediately when pattern is found.\n",
        "            }\n",
        "        }\n",
        "    }\n",
        "}\n",
        "\n",
        "int main() {\n",
        "    FILE* inputFile = fopen(\"text.txt\", \"r\");\n",
        "    if (!inputFile) {\n",
        "        printf(\"Error opening the file.\\n\");\n",
        "        return 1;\n",
        "    }\n",
        "\n",
        "    char* text = NULL;\n",
        "    size_t len = 0;\n",
        "    ssize_t read;\n",
        "\n",
        "    // Read the entire text from the file.\n",
        "    read = getline(&text, &len, inputFile);\n",
        "    fclose(inputFile);\n",
        "\n",
        "    const char* patterns[] = {\"dog\", \"fox\", \"lazy\", \"jump\", \"over\", \"quick\", \"brown\", \"jumps\", \"the\", \"sleepy\"};\n",
        "    int numPatterns = sizeof(patterns) / sizeof(patterns[0]);\n",
        "\n",
        "    int textLength = strlen(text);\n",
        "\n",
        "    // Allocate memory for text on the GPU.\n",
        "    thrust::device_vector<char> cudaText(text, text + textLength);\n",
        "\n",
        "    bool patternFound[numPatterns];\n",
        "    for (int i = 0; i < numPatterns; i++) {\n",
        "        patternFound[i] = false;\n",
        "    }\n",
        "\n",
        "    bool* cudaPatternFound;\n",
        "    cudaMalloc((void**)&cudaPatternFound, numPatterns * sizeof(bool));\n",
        "    cudaMemcpy(cudaPatternFound, patternFound, numPatterns * sizeof(bool), cudaMemcpyHostToDevice);\n",
        "\n",
        "    for (int i = 0; i < numPatterns; i++) {\n",
        "        int patternLength = strlen(patterns[i]);\n",
        "        char* cudaPattern;\n",
        "        cudaMalloc((void**)&cudaPattern, patternLength);\n",
        "        cudaMemcpy(cudaPattern, patterns[i], patternLength, cudaMemcpyHostToDevice);\n",
        "\n",
        "        // Launch the kernel with appropriate thread configuration.\n",
        "        int blockSize = 256;\n",
        "        int numBlocks = (textLength + blockSize - 1) / blockSize;\n",
        "        rabinKarpSearch<<<numBlocks, blockSize>>>(thrust::raw_pointer_cast(cudaText.data()), thrust::raw_pointer_cast(cudaPattern), i, textLength, patternLength, cudaPatternFound);\n",
        "\n",
        "        cudaFree(cudaPattern);\n",
        "    }\n",
        "\n",
        "    cudaMemcpy(patternFound, cudaPatternFound, numPatterns * sizeof(bool), cudaMemcpyDeviceToHost);\n",
        "    cudaFree(cudaPatternFound);\n",
        "\n",
        "    // Print message for patterns that are not found.\n",
        "    for (int i = 0; i < numPatterns; i++) {\n",
        "        if (!patternFound[i]) {\n",
        "            printf(\"Pattern %d not found.\\n\", i);\n",
        "        }\n",
        "    }\n",
        "\n",
        "    // Free GPU memory.\n",
        "    cudaText.clear();\n",
        "\n",
        "    free(text);\n",
        "\n",
        "    return 0;\n",
        "}\n"
      ],
      "metadata": {
        "colab": {
          "base_uri": "https://localhost:8080/"
        },
        "outputId": "b46fc8f4-b88a-4ba0-d003-c3430f147993",
        "id": "HlF28CcD04uf"
      },
      "execution_count": 40,
      "outputs": [
        {
          "output_type": "stream",
          "name": "stdout",
          "text": [
            "Overwriting rabinKarp2.cu\n"
          ]
        }
      ]
    },
    {
      "cell_type": "code",
      "source": [
        "%%shell\n",
        "nvcc rabinKarp2.cu -o rabinKarp2"
      ],
      "metadata": {
        "id": "IGQmHOA12x2y",
        "outputId": "0d746e44-73d2-44e9-8840-4bf0c5c568c7",
        "colab": {
          "base_uri": "https://localhost:8080/"
        }
      },
      "execution_count": 41,
      "outputs": [
        {
          "output_type": "stream",
          "name": "stdout",
          "text": [
            "\u001b[01m\u001b[0m\u001b[01mrabinKarp2.cu(67)\u001b[0m: \u001b[01;35mwarning\u001b[0m #550-D: variable \u001b[01m\"read\"\u001b[0m was set but never used\n",
            "\n"
          ]
        },
        {
          "output_type": "execute_result",
          "data": {
            "text/plain": []
          },
          "metadata": {},
          "execution_count": 41
        }
      ]
    },
    {
      "cell_type": "code",
      "source": [
        "%%shell\n",
        "nvprof ./rabinKarp2"
      ],
      "metadata": {
        "colab": {
          "base_uri": "https://localhost:8080/"
        },
        "id": "ICE3zYxwC8cI",
        "outputId": "548f0139-63b7-46d8-f2ff-4e13bc40be60"
      },
      "execution_count": 42,
      "outputs": [
        {
          "output_type": "stream",
          "name": "stdout",
          "text": [
            "==15691== NVPROF is profiling process 15691, command: ./rabinKarp2\n",
            "Pattern 0 found at position: 325\n",
            "Pattern 0 found at position: 520\n",
            "Pattern 0 found at position: 784\n",
            "Pattern 0 found at position: 818\n",
            "Pattern 0 found at position: 40\n",
            "Pattern 0 found at position: 49\n",
            "Pattern 0 found at position: 178\n",
            "Pattern 0 found at position: 123\n",
            "Pattern 1 found at position: 708\n",
            "Pattern 1 found at position: 806\n",
            "Pattern 1 found at position: 16\n",
            "Pattern 1 found at position: 471\n",
            "Pattern 1 found at position: 246\n",
            "Pattern 1 found at position: 88\n",
            "Pattern 1 found at position: 219\n",
            "Pattern 1 found at position: 144\n",
            "Pattern 1 found at position: 157\n",
            "Pattern 1 found at position: 62\n",
            "Pattern 2 found at position: 35\n",
            "Pattern 3 found at position: 20\n",
            "Pattern 4 found at position: 26\n",
            "Pattern 5 found at position: 4\n",
            "Pattern 6 found at position: 10\n",
            "Pattern 7 found at position: 20\n",
            "Pattern 8 found at position: 616\n",
            "Pattern 8 found at position: 868\n",
            "Pattern 8 found at position: 649\n",
            "Pattern 8 found at position: 780\n",
            "Pattern 8 found at position: 802\n",
            "Pattern 8 found at position: 814\n",
            "Pattern 8 found at position: 704\n",
            "Pattern 8 found at position: 730\n",
            "Pattern 8 found at position: 58\n",
            "Pattern 8 found at position: 140\n",
            "Pattern 8 found at position: 153\n",
            "Pattern 8 found at position: 431\n",
            "Pattern 8 found at position: 446\n",
            "Pattern 8 found at position: 31\n",
            "Pattern 9 not found.\n",
            "==15691== Profiling application: ./rabinKarp2\n",
            "==15691== Profiling result:\n",
            "            Type  Time(%)      Time     Calls       Avg       Min       Max  Name\n",
            " GPU activities:   97.80%  857.91us        10  85.791us  7.3280us  105.41us  rabinKarpSearch(char const *, char const *, int, int, int, bool*)\n",
            "                    1.95%  17.148us        12  1.4290us  1.3440us  2.0160us  [CUDA memcpy HtoD]\n",
            "                    0.24%  2.1120us         1  2.1120us  2.1120us  2.1120us  [CUDA memcpy DtoH]\n",
            "      API calls:   99.45%  305.67ms        12  25.473ms  4.0090us  305.62ms  cudaMalloc\n",
            "                    0.40%  1.2199ms        12  101.66us  3.8690us  148.81us  cudaFree\n",
            "                    0.05%  145.41us        10  14.540us  8.2300us  56.455us  cudaLaunchKernel\n",
            "                    0.04%  129.12us        12  10.759us  5.0290us  25.465us  cudaMemcpy\n",
            "                    0.04%  128.48us       101  1.2720us     134ns  52.233us  cuDeviceGetAttribute\n",
            "                    0.01%  22.973us         1  22.973us  22.973us  22.973us  cuDeviceGetName\n",
            "                    0.01%  22.626us         1  22.626us  22.626us  22.626us  cudaMemcpyAsync\n",
            "                    0.00%  14.911us         1  14.911us  14.911us  14.911us  cudaStreamSynchronize\n",
            "                    0.00%  7.1410us         1  7.1410us  7.1410us  7.1410us  cuDeviceGetPCIBusId\n",
            "                    0.00%  1.7340us         3     578ns     306ns  1.1200us  cuDeviceGetCount\n",
            "                    0.00%  1.2030us         2     601ns     197ns  1.0060us  cuDeviceGet\n",
            "                    0.00%     750ns         1     750ns     750ns     750ns  cudaGetLastError\n",
            "                    0.00%     577ns         1     577ns     577ns     577ns  cuModuleGetLoadingMode\n",
            "                    0.00%     551ns         1     551ns     551ns     551ns  cuDeviceTotalMem\n",
            "                    0.00%     232ns         1     232ns     232ns     232ns  cuDeviceGetUuid\n"
          ]
        },
        {
          "output_type": "execute_result",
          "data": {
            "text/plain": []
          },
          "metadata": {},
          "execution_count": 42
        }
      ]
    }
  ]
}